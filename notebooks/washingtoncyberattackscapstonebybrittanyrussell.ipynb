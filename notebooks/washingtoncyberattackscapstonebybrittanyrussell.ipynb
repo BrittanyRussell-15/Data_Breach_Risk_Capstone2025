{
 "cells": [
  {
   "cell_type": "code",
   "execution_count": 1,
   "id": "e1104b5a-e92f-4c5a-96a2-e2c2fb365079",
   "metadata": {},
   "outputs": [],
   "source": [
    "import pandas as pd\n",
    "import numpy as np\n",
    "import matplotlib.pyplot as plt\n",
    "import seaborn as sns\n",
    "import sys\n",
    "import warnings\n"
   ]
  },
  {
   "cell_type": "markdown",
   "id": "1edf196a-0658-4a38-b3a2-4987eaa6c610",
   "metadata": {},
   "source": [
    "                                    Current Date Oct 4, 2025 Capstone Project Start Day"
   ]
  },
  {
   "cell_type": "code",
   "execution_count": 2,
   "id": "077f7716-7dfc-47de-ad97-bd66f9def5ae",
   "metadata": {},
   "outputs": [],
   "source": [
    "washington_data_breach = pd.read_csv('../data/Data_Breach_Notifications_Affecting_Washington_Residents.csv')\n",
    "washington_data_breach_personalinfo= pd.read_csv('../data/Data_Breach_Notifications_Affecting_Washington_Residents__Personal_Information_Breakdown_.csv')"
   ]
  },
  {
   "cell_type": "code",
   "execution_count": 3,
   "id": "14afc1da-fc72-4bb7-83d5-3f4062a31136",
   "metadata": {},
   "outputs": [
    {
     "data": {
      "text/html": [
       "<div>\n",
       "<style scoped>\n",
       "    .dataframe tbody tr th:only-of-type {\n",
       "        vertical-align: middle;\n",
       "    }\n",
       "\n",
       "    .dataframe tbody tr th {\n",
       "        vertical-align: top;\n",
       "    }\n",
       "\n",
       "    .dataframe thead th {\n",
       "        text-align: right;\n",
       "    }\n",
       "</style>\n",
       "<table border=\"1\" class=\"dataframe\">\n",
       "  <thead>\n",
       "    <tr style=\"text-align: right;\">\n",
       "      <th></th>\n",
       "      <th>DateAware</th>\n",
       "      <th>DateSubmitted</th>\n",
       "      <th>DataBreachCause</th>\n",
       "      <th>DateStart</th>\n",
       "      <th>DateEnd</th>\n",
       "      <th>Name</th>\n",
       "      <th>Id</th>\n",
       "      <th>CyberattackType</th>\n",
       "      <th>WashingtoniansAffected</th>\n",
       "      <th>IndustryType</th>\n",
       "      <th>...</th>\n",
       "      <th>DaysToContainBreach</th>\n",
       "      <th>DaysToIdentifyBreach</th>\n",
       "      <th>DaysBreachLifecycle</th>\n",
       "      <th>DiscoveredInProgress</th>\n",
       "      <th>DaysOfExposure</th>\n",
       "      <th>DaysElapsedBetweenEndAndDiscovery</th>\n",
       "      <th>EndedOnDayDiscovered</th>\n",
       "      <th>DaysElapsedBeforeNotification</th>\n",
       "      <th>DaysOfExposureRange</th>\n",
       "      <th>EntityState</th>\n",
       "    </tr>\n",
       "  </thead>\n",
       "  <tbody>\n",
       "    <tr>\n",
       "      <th>0</th>\n",
       "      <td>02/04/2021 12:00:00 AM</td>\n",
       "      <td>03/17/2021 12:00:00 AM</td>\n",
       "      <td>Cyberattack</td>\n",
       "      <td>02/04/2021 12:00:00 AM</td>\n",
       "      <td>02/08/2021 12:00:00 AM</td>\n",
       "      <td>Automatic Funds Transfer Services Inc.</td>\n",
       "      <td>10427</td>\n",
       "      <td>Ransomware</td>\n",
       "      <td>695.0</td>\n",
       "      <td>Finance</td>\n",
       "      <td>...</td>\n",
       "      <td>4.0</td>\n",
       "      <td>0.0</td>\n",
       "      <td>4.0</td>\n",
       "      <td>True</td>\n",
       "      <td>4.0</td>\n",
       "      <td>NaN</td>\n",
       "      <td>False</td>\n",
       "      <td>41.0</td>\n",
       "      <td>1-99</td>\n",
       "      <td>NaN</td>\n",
       "    </tr>\n",
       "    <tr>\n",
       "      <th>1</th>\n",
       "      <td>12/20/2019 12:00:00 AM</td>\n",
       "      <td>03/17/2021 12:00:00 AM</td>\n",
       "      <td>Cyberattack</td>\n",
       "      <td>NaN</td>\n",
       "      <td>NaN</td>\n",
       "      <td>PCS Revenue Control Systems</td>\n",
       "      <td>10428</td>\n",
       "      <td>Phishing</td>\n",
       "      <td>11807.0</td>\n",
       "      <td>Business</td>\n",
       "      <td>...</td>\n",
       "      <td>NaN</td>\n",
       "      <td>NaN</td>\n",
       "      <td>NaN</td>\n",
       "      <td>False</td>\n",
       "      <td>NaN</td>\n",
       "      <td>NaN</td>\n",
       "      <td>False</td>\n",
       "      <td>453.0</td>\n",
       "      <td>Unknown</td>\n",
       "      <td>NaN</td>\n",
       "    </tr>\n",
       "    <tr>\n",
       "      <th>2</th>\n",
       "      <td>02/22/2021 12:00:00 AM</td>\n",
       "      <td>03/17/2021 12:00:00 AM</td>\n",
       "      <td>Cyberattack</td>\n",
       "      <td>12/24/2020 12:00:00 AM</td>\n",
       "      <td>12/29/2020 12:00:00 AM</td>\n",
       "      <td>Western Union Retail Money Transfer Partner</td>\n",
       "      <td>10429</td>\n",
       "      <td>Malware</td>\n",
       "      <td>1555.0</td>\n",
       "      <td>Finance</td>\n",
       "      <td>...</td>\n",
       "      <td>0.0</td>\n",
       "      <td>60.0</td>\n",
       "      <td>60.0</td>\n",
       "      <td>False</td>\n",
       "      <td>5.0</td>\n",
       "      <td>55.0</td>\n",
       "      <td>False</td>\n",
       "      <td>23.0</td>\n",
       "      <td>1-99</td>\n",
       "      <td>NaN</td>\n",
       "    </tr>\n",
       "    <tr>\n",
       "      <th>3</th>\n",
       "      <td>05/24/2020 12:00:00 AM</td>\n",
       "      <td>03/18/2021 12:00:00 AM</td>\n",
       "      <td>Cyberattack</td>\n",
       "      <td>05/24/2020 12:00:00 AM</td>\n",
       "      <td>NaN</td>\n",
       "      <td>Manson Counstruction Co.</td>\n",
       "      <td>10430</td>\n",
       "      <td>Unclear/unknown</td>\n",
       "      <td>1049.0</td>\n",
       "      <td>Business</td>\n",
       "      <td>...</td>\n",
       "      <td>NaN</td>\n",
       "      <td>0.0</td>\n",
       "      <td>NaN</td>\n",
       "      <td>False</td>\n",
       "      <td>NaN</td>\n",
       "      <td>NaN</td>\n",
       "      <td>False</td>\n",
       "      <td>298.0</td>\n",
       "      <td>Unknown</td>\n",
       "      <td>NaN</td>\n",
       "    </tr>\n",
       "    <tr>\n",
       "      <th>4</th>\n",
       "      <td>01/18/2021 12:00:00 AM</td>\n",
       "      <td>03/19/2021 12:00:00 AM</td>\n",
       "      <td>Cyberattack</td>\n",
       "      <td>01/12/2021 12:00:00 AM</td>\n",
       "      <td>01/18/2021 12:00:00 AM</td>\n",
       "      <td>Cancer Treatment Centers of America</td>\n",
       "      <td>10431</td>\n",
       "      <td>Phishing</td>\n",
       "      <td>579.0</td>\n",
       "      <td>Health</td>\n",
       "      <td>...</td>\n",
       "      <td>0.0</td>\n",
       "      <td>6.0</td>\n",
       "      <td>6.0</td>\n",
       "      <td>True</td>\n",
       "      <td>6.0</td>\n",
       "      <td>NaN</td>\n",
       "      <td>True</td>\n",
       "      <td>60.0</td>\n",
       "      <td>1-99</td>\n",
       "      <td>NaN</td>\n",
       "    </tr>\n",
       "  </tbody>\n",
       "</table>\n",
       "<p>5 rows × 25 columns</p>\n",
       "</div>"
      ],
      "text/plain": [
       "                DateAware           DateSubmitted DataBreachCause  \\\n",
       "0  02/04/2021 12:00:00 AM  03/17/2021 12:00:00 AM     Cyberattack   \n",
       "1  12/20/2019 12:00:00 AM  03/17/2021 12:00:00 AM     Cyberattack   \n",
       "2  02/22/2021 12:00:00 AM  03/17/2021 12:00:00 AM     Cyberattack   \n",
       "3  05/24/2020 12:00:00 AM  03/18/2021 12:00:00 AM     Cyberattack   \n",
       "4  01/18/2021 12:00:00 AM  03/19/2021 12:00:00 AM     Cyberattack   \n",
       "\n",
       "                DateStart                 DateEnd  \\\n",
       "0  02/04/2021 12:00:00 AM  02/08/2021 12:00:00 AM   \n",
       "1                     NaN                     NaN   \n",
       "2  12/24/2020 12:00:00 AM  12/29/2020 12:00:00 AM   \n",
       "3  05/24/2020 12:00:00 AM                     NaN   \n",
       "4  01/12/2021 12:00:00 AM  01/18/2021 12:00:00 AM   \n",
       "\n",
       "                                          Name     Id  CyberattackType  \\\n",
       "0       Automatic Funds Transfer Services Inc.  10427       Ransomware   \n",
       "1                  PCS Revenue Control Systems  10428         Phishing   \n",
       "2  Western Union Retail Money Transfer Partner  10429          Malware   \n",
       "3                     Manson Counstruction Co.  10430  Unclear/unknown   \n",
       "4          Cancer Treatment Centers of America  10431         Phishing   \n",
       "\n",
       "   WashingtoniansAffected IndustryType  ... DaysToContainBreach  \\\n",
       "0                   695.0      Finance  ...                 4.0   \n",
       "1                 11807.0     Business  ...                 NaN   \n",
       "2                  1555.0      Finance  ...                 0.0   \n",
       "3                  1049.0     Business  ...                 NaN   \n",
       "4                   579.0       Health  ...                 0.0   \n",
       "\n",
       "   DaysToIdentifyBreach  DaysBreachLifecycle DiscoveredInProgress  \\\n",
       "0                   0.0                  4.0                 True   \n",
       "1                   NaN                  NaN                False   \n",
       "2                  60.0                 60.0                False   \n",
       "3                   0.0                  NaN                False   \n",
       "4                   6.0                  6.0                 True   \n",
       "\n",
       "  DaysOfExposure  DaysElapsedBetweenEndAndDiscovery  EndedOnDayDiscovered  \\\n",
       "0            4.0                                NaN                 False   \n",
       "1            NaN                                NaN                 False   \n",
       "2            5.0                               55.0                 False   \n",
       "3            NaN                                NaN                 False   \n",
       "4            6.0                                NaN                  True   \n",
       "\n",
       "   DaysElapsedBeforeNotification  DaysOfExposureRange  EntityState  \n",
       "0                           41.0                 1-99          NaN  \n",
       "1                          453.0              Unknown          NaN  \n",
       "2                           23.0                 1-99          NaN  \n",
       "3                          298.0              Unknown          NaN  \n",
       "4                           60.0                 1-99          NaN  \n",
       "\n",
       "[5 rows x 25 columns]"
      ]
     },
     "execution_count": 3,
     "metadata": {},
     "output_type": "execute_result"
    }
   ],
   "source": [
    "washington_data_breach.head()"
   ]
  },
  {
   "cell_type": "code",
   "execution_count": 4,
   "id": "441c71a4-5ec7-4449-bad9-e9260fd9ffe9",
   "metadata": {},
   "outputs": [
    {
     "data": {
      "text/html": [
       "<div>\n",
       "<style scoped>\n",
       "    .dataframe tbody tr th:only-of-type {\n",
       "        vertical-align: middle;\n",
       "    }\n",
       "\n",
       "    .dataframe tbody tr th {\n",
       "        vertical-align: top;\n",
       "    }\n",
       "\n",
       "    .dataframe thead th {\n",
       "        text-align: right;\n",
       "    }\n",
       "</style>\n",
       "<table border=\"1\" class=\"dataframe\">\n",
       "  <thead>\n",
       "    <tr style=\"text-align: right;\">\n",
       "      <th></th>\n",
       "      <th>Id</th>\n",
       "      <th>DateAware</th>\n",
       "      <th>DateSubmitted</th>\n",
       "      <th>DataBreachCause</th>\n",
       "      <th>DateStart</th>\n",
       "      <th>DateEnd</th>\n",
       "      <th>Name</th>\n",
       "      <th>CyberattackType</th>\n",
       "      <th>WashingtoniansAffected</th>\n",
       "      <th>IndustryType</th>\n",
       "      <th>BusinessType</th>\n",
       "      <th>InformationType</th>\n",
       "      <th>Year</th>\n",
       "      <th>WashingtoniansAffectedRange</th>\n",
       "      <th>BreachLifecycleRange</th>\n",
       "      <th>EntityState</th>\n",
       "    </tr>\n",
       "  </thead>\n",
       "  <tbody>\n",
       "    <tr>\n",
       "      <th>0</th>\n",
       "      <td>9707</td>\n",
       "      <td>02/06/2017 12:00:00 AM</td>\n",
       "      <td>05/24/2017 12:00:00 AM</td>\n",
       "      <td>Cyberattack</td>\n",
       "      <td>2016-02-26T00:00:00</td>\n",
       "      <td>2016-12-05T00:00:00</td>\n",
       "      <td>Incipio, LLC</td>\n",
       "      <td>Unclear/unknown</td>\n",
       "      <td>1650.0</td>\n",
       "      <td>Business</td>\n",
       "      <td>Accessories</td>\n",
       "      <td>Other</td>\n",
       "      <td>2017</td>\n",
       "      <td>1,000-9,999</td>\n",
       "      <td>300-399</td>\n",
       "      <td>NaN</td>\n",
       "    </tr>\n",
       "    <tr>\n",
       "      <th>1</th>\n",
       "      <td>9708</td>\n",
       "      <td>05/26/2017 12:00:00 AM</td>\n",
       "      <td>05/26/2017 12:00:00 AM</td>\n",
       "      <td>Unauthorized Access</td>\n",
       "      <td>2013-10-23T00:00:00</td>\n",
       "      <td>2017-03-31T00:00:00</td>\n",
       "      <td>Kennewick Public Hospital District, dba Trios ...</td>\n",
       "      <td>NaN</td>\n",
       "      <td>942.0</td>\n",
       "      <td>Health</td>\n",
       "      <td>NaN</td>\n",
       "      <td>Name</td>\n",
       "      <td>2017</td>\n",
       "      <td>500-999</td>\n",
       "      <td>500+</td>\n",
       "      <td>NaN</td>\n",
       "    </tr>\n",
       "    <tr>\n",
       "      <th>2</th>\n",
       "      <td>9708</td>\n",
       "      <td>05/26/2017 12:00:00 AM</td>\n",
       "      <td>05/26/2017 12:00:00 AM</td>\n",
       "      <td>Unauthorized Access</td>\n",
       "      <td>2013-10-23T00:00:00</td>\n",
       "      <td>2017-03-31T00:00:00</td>\n",
       "      <td>Kennewick Public Hospital District, dba Trios ...</td>\n",
       "      <td>NaN</td>\n",
       "      <td>942.0</td>\n",
       "      <td>Health</td>\n",
       "      <td>NaN</td>\n",
       "      <td>Medical Information</td>\n",
       "      <td>2017</td>\n",
       "      <td>500-999</td>\n",
       "      <td>500+</td>\n",
       "      <td>NaN</td>\n",
       "    </tr>\n",
       "    <tr>\n",
       "      <th>3</th>\n",
       "      <td>9710</td>\n",
       "      <td>04/18/2017 12:00:00 AM</td>\n",
       "      <td>06/05/2017 12:00:00 AM</td>\n",
       "      <td>Unauthorized Access</td>\n",
       "      <td>2016-08-10T00:00:00</td>\n",
       "      <td>2017-02-09T00:00:00</td>\n",
       "      <td>GameStop, Inc.</td>\n",
       "      <td>NaN</td>\n",
       "      <td>27956.0</td>\n",
       "      <td>Business</td>\n",
       "      <td>Retail</td>\n",
       "      <td>Name</td>\n",
       "      <td>2017</td>\n",
       "      <td>10,000-49,999</td>\n",
       "      <td>200-299</td>\n",
       "      <td>NaN</td>\n",
       "    </tr>\n",
       "    <tr>\n",
       "      <th>4</th>\n",
       "      <td>9710</td>\n",
       "      <td>04/18/2017 12:00:00 AM</td>\n",
       "      <td>06/05/2017 12:00:00 AM</td>\n",
       "      <td>Unauthorized Access</td>\n",
       "      <td>2016-08-10T00:00:00</td>\n",
       "      <td>2017-02-09T00:00:00</td>\n",
       "      <td>GameStop, Inc.</td>\n",
       "      <td>NaN</td>\n",
       "      <td>27956.0</td>\n",
       "      <td>Business</td>\n",
       "      <td>Retail</td>\n",
       "      <td>Financial &amp; Banking Information</td>\n",
       "      <td>2017</td>\n",
       "      <td>10,000-49,999</td>\n",
       "      <td>200-299</td>\n",
       "      <td>NaN</td>\n",
       "    </tr>\n",
       "  </tbody>\n",
       "</table>\n",
       "</div>"
      ],
      "text/plain": [
       "     Id               DateAware           DateSubmitted      DataBreachCause  \\\n",
       "0  9707  02/06/2017 12:00:00 AM  05/24/2017 12:00:00 AM          Cyberattack   \n",
       "1  9708  05/26/2017 12:00:00 AM  05/26/2017 12:00:00 AM  Unauthorized Access   \n",
       "2  9708  05/26/2017 12:00:00 AM  05/26/2017 12:00:00 AM  Unauthorized Access   \n",
       "3  9710  04/18/2017 12:00:00 AM  06/05/2017 12:00:00 AM  Unauthorized Access   \n",
       "4  9710  04/18/2017 12:00:00 AM  06/05/2017 12:00:00 AM  Unauthorized Access   \n",
       "\n",
       "             DateStart              DateEnd  \\\n",
       "0  2016-02-26T00:00:00  2016-12-05T00:00:00   \n",
       "1  2013-10-23T00:00:00  2017-03-31T00:00:00   \n",
       "2  2013-10-23T00:00:00  2017-03-31T00:00:00   \n",
       "3  2016-08-10T00:00:00  2017-02-09T00:00:00   \n",
       "4  2016-08-10T00:00:00  2017-02-09T00:00:00   \n",
       "\n",
       "                                                Name  CyberattackType  \\\n",
       "0                                       Incipio, LLC  Unclear/unknown   \n",
       "1  Kennewick Public Hospital District, dba Trios ...              NaN   \n",
       "2  Kennewick Public Hospital District, dba Trios ...              NaN   \n",
       "3                                     GameStop, Inc.              NaN   \n",
       "4                                     GameStop, Inc.              NaN   \n",
       "\n",
       "   WashingtoniansAffected IndustryType BusinessType  \\\n",
       "0                  1650.0     Business  Accessories   \n",
       "1                   942.0       Health          NaN   \n",
       "2                   942.0       Health          NaN   \n",
       "3                 27956.0     Business       Retail   \n",
       "4                 27956.0     Business       Retail   \n",
       "\n",
       "                   InformationType  Year WashingtoniansAffectedRange  \\\n",
       "0                            Other  2017                 1,000-9,999   \n",
       "1                             Name  2017                     500-999   \n",
       "2              Medical Information  2017                     500-999   \n",
       "3                             Name  2017               10,000-49,999   \n",
       "4  Financial & Banking Information  2017               10,000-49,999   \n",
       "\n",
       "  BreachLifecycleRange EntityState  \n",
       "0              300-399         NaN  \n",
       "1                 500+         NaN  \n",
       "2                 500+         NaN  \n",
       "3              200-299         NaN  \n",
       "4              200-299         NaN  "
      ]
     },
     "execution_count": 4,
     "metadata": {},
     "output_type": "execute_result"
    }
   ],
   "source": [
    "washington_data_breach_personalinfo.head()"
   ]
  },
  {
   "cell_type": "code",
   "execution_count": 5,
   "id": "2fa34c3f-1a27-4610-9e27-951a8a2af287",
   "metadata": {},
   "outputs": [
    {
     "data": {
      "text/plain": [
       "Index(['DateAware', 'DateSubmitted', 'DataBreachCause', 'DateStart', 'DateEnd',\n",
       "       'Name', 'Id', 'CyberattackType', 'WashingtoniansAffected',\n",
       "       'IndustryType', 'BusinessType', 'Year', 'YearText',\n",
       "       'WashingtoniansAffectedRange', 'BreachLifecycleRange',\n",
       "       'DaysToContainBreach', 'DaysToIdentifyBreach', 'DaysBreachLifecycle',\n",
       "       'DiscoveredInProgress', 'DaysOfExposure',\n",
       "       'DaysElapsedBetweenEndAndDiscovery', 'EndedOnDayDiscovered',\n",
       "       'DaysElapsedBeforeNotification', 'DaysOfExposureRange', 'EntityState'],\n",
       "      dtype='object')"
      ]
     },
     "execution_count": 5,
     "metadata": {},
     "output_type": "execute_result"
    }
   ],
   "source": [
    "washington_data_breach.columns"
   ]
  },
  {
   "cell_type": "code",
   "execution_count": 6,
   "id": "868901b5-aaaf-40c6-84c4-6f497d109bff",
   "metadata": {},
   "outputs": [
    {
     "data": {
      "text/plain": [
       "RangeIndex(start=0, stop=1448, step=1)"
      ]
     },
     "execution_count": 6,
     "metadata": {},
     "output_type": "execute_result"
    }
   ],
   "source": [
    "washington_data_breach.index"
   ]
  },
  {
   "cell_type": "code",
   "execution_count": 7,
   "id": "cc33c83d-9b19-441f-b9e0-249029680c0c",
   "metadata": {},
   "outputs": [
    {
     "data": {
      "text/plain": [
       "<bound method DataFrame.info of                    DateAware           DateSubmitted      DataBreachCause  \\\n",
       "0     02/04/2021 12:00:00 AM  03/17/2021 12:00:00 AM          Cyberattack   \n",
       "1     12/20/2019 12:00:00 AM  03/17/2021 12:00:00 AM          Cyberattack   \n",
       "2     02/22/2021 12:00:00 AM  03/17/2021 12:00:00 AM          Cyberattack   \n",
       "3     05/24/2020 12:00:00 AM  03/18/2021 12:00:00 AM          Cyberattack   \n",
       "4     01/18/2021 12:00:00 AM  03/19/2021 12:00:00 AM          Cyberattack   \n",
       "...                      ...                     ...                  ...   \n",
       "1443  07/01/2024 12:00:00 AM  08/21/2025 12:00:00 AM          Cyberattack   \n",
       "1444  05/30/2025 12:00:00 AM  08/22/2025 12:00:00 AM          Cyberattack   \n",
       "1445  05/30/2025 12:00:00 AM  08/22/2025 12:00:00 AM          Cyberattack   \n",
       "1446  07/02/2025 12:00:00 AM  08/22/2025 12:00:00 AM  Unauthorized Access   \n",
       "1447  12/06/2021 12:00:00 AM  08/19/2022 12:00:00 AM  Unauthorized Access   \n",
       "\n",
       "                   DateStart                 DateEnd  \\\n",
       "0     02/04/2021 12:00:00 AM  02/08/2021 12:00:00 AM   \n",
       "1                        NaN                     NaN   \n",
       "2     12/24/2020 12:00:00 AM  12/29/2020 12:00:00 AM   \n",
       "3     05/24/2020 12:00:00 AM                     NaN   \n",
       "4     01/12/2021 12:00:00 AM  01/18/2021 12:00:00 AM   \n",
       "...                      ...                     ...   \n",
       "1443  07/01/2024 12:00:00 AM  07/05/2024 12:00:00 AM   \n",
       "1444  05/29/2025 12:00:00 AM  05/29/2025 12:00:00 AM   \n",
       "1445  05/29/2025 12:00:00 AM  05/29/2025 12:00:00 AM   \n",
       "1446  06/07/2025 12:00:00 AM  06/13/2025 12:00:00 AM   \n",
       "1447  10/27/2021 12:00:00 AM  12/07/2021 12:00:00 AM   \n",
       "\n",
       "                                                   Name     Id  \\\n",
       "0                Automatic Funds Transfer Services Inc.  10427   \n",
       "1                           PCS Revenue Control Systems  10428   \n",
       "2           Western Union Retail Money Transfer Partner  10429   \n",
       "3                              Manson Counstruction Co.  10430   \n",
       "4                   Cancer Treatment Centers of America  10431   \n",
       "...                                                 ...    ...   \n",
       "1443                              The Computer Merchant  20023   \n",
       "1444  Farmers Insurance Exchange, Farmers Group, Inc...  20024   \n",
       "1445           Farmers New World Life Insurance Company  20025   \n",
       "1446                  Louis Vuitton North America, Inc.  20046   \n",
       "1447                       Community Loan Servicing LLC  13691   \n",
       "\n",
       "      CyberattackType  WashingtoniansAffected IndustryType  ...  \\\n",
       "0          Ransomware                   695.0      Finance  ...   \n",
       "1            Phishing                 11807.0     Business  ...   \n",
       "2             Malware                  1555.0      Finance  ...   \n",
       "3     Unclear/unknown                  1049.0     Business  ...   \n",
       "4            Phishing                   579.0       Health  ...   \n",
       "...               ...                     ...          ...  ...   \n",
       "1443       Ransomware                   543.0     Business  ...   \n",
       "1444            Other                 45348.0      Finance  ...   \n",
       "1445            Other                  1463.0      Finance  ...   \n",
       "1446              NaN                 17615.0     Business  ...   \n",
       "1447              NaN                  7518.0      Finance  ...   \n",
       "\n",
       "     DaysToContainBreach  DaysToIdentifyBreach  DaysBreachLifecycle  \\\n",
       "0                    4.0                   0.0                  4.0   \n",
       "1                    NaN                   NaN                  NaN   \n",
       "2                    0.0                  60.0                 60.0   \n",
       "3                    NaN                   0.0                  NaN   \n",
       "4                    0.0                   6.0                  6.0   \n",
       "...                  ...                   ...                  ...   \n",
       "1443                 4.0                   0.0                  4.0   \n",
       "1444                 0.0                   1.0                  1.0   \n",
       "1445                 0.0                   1.0                  1.0   \n",
       "1446                 0.0                  25.0                 25.0   \n",
       "1447                 1.0                  40.0                 41.0   \n",
       "\n",
       "     DiscoveredInProgress DaysOfExposure  DaysElapsedBetweenEndAndDiscovery  \\\n",
       "0                    True            4.0                                NaN   \n",
       "1                   False            NaN                                NaN   \n",
       "2                   False            5.0                               55.0   \n",
       "3                   False            NaN                                NaN   \n",
       "4                    True            6.0                                NaN   \n",
       "...                   ...            ...                                ...   \n",
       "1443                 True            4.0                                NaN   \n",
       "1444                False            0.0                                1.0   \n",
       "1445                False            0.0                                1.0   \n",
       "1446                False            6.0                               19.0   \n",
       "1447                 True           41.0                                NaN   \n",
       "\n",
       "      EndedOnDayDiscovered  DaysElapsedBeforeNotification  \\\n",
       "0                    False                           41.0   \n",
       "1                    False                          453.0   \n",
       "2                    False                           23.0   \n",
       "3                    False                          298.0   \n",
       "4                     True                           60.0   \n",
       "...                    ...                            ...   \n",
       "1443                 False                          416.0   \n",
       "1444                 False                           84.0   \n",
       "1445                 False                           84.0   \n",
       "1446                 False                           51.0   \n",
       "1447                 False                          256.0   \n",
       "\n",
       "      DaysOfExposureRange  EntityState  \n",
       "0                    1-99          NaN  \n",
       "1                 Unknown          NaN  \n",
       "2                    1-99          NaN  \n",
       "3                 Unknown          NaN  \n",
       "4                    1-99          NaN  \n",
       "...                   ...          ...  \n",
       "1443                 1-99           MA  \n",
       "1444                    0           CA  \n",
       "1445                    0           WA  \n",
       "1446                 1-99           NY  \n",
       "1447                 1-99           FL  \n",
       "\n",
       "[1448 rows x 25 columns]>"
      ]
     },
     "execution_count": 7,
     "metadata": {},
     "output_type": "execute_result"
    }
   ],
   "source": [
    "washington_data_breach.info"
   ]
  },
  {
   "cell_type": "code",
   "execution_count": 8,
   "id": "1ae64c28-e0e6-4bbd-a5bd-fac55f037ce5",
   "metadata": {},
   "outputs": [
    {
     "data": {
      "text/plain": [
       "(1448, 25)"
      ]
     },
     "execution_count": 8,
     "metadata": {},
     "output_type": "execute_result"
    }
   ],
   "source": [
    "washington_data_breach.shape"
   ]
  },
  {
   "cell_type": "code",
   "execution_count": 9,
   "id": "acb2e792-652b-41cd-ba17-4a5b67a25382",
   "metadata": {},
   "outputs": [
    {
     "data": {
      "text/plain": [
       "DateAware                             object\n",
       "DateSubmitted                         object\n",
       "DataBreachCause                       object\n",
       "DateStart                             object\n",
       "DateEnd                               object\n",
       "Name                                  object\n",
       "Id                                     int64\n",
       "CyberattackType                       object\n",
       "WashingtoniansAffected               float64\n",
       "IndustryType                          object\n",
       "BusinessType                          object\n",
       "Year                                   int64\n",
       "YearText                               int64\n",
       "WashingtoniansAffectedRange           object\n",
       "BreachLifecycleRange                  object\n",
       "DaysToContainBreach                  float64\n",
       "DaysToIdentifyBreach                 float64\n",
       "DaysBreachLifecycle                  float64\n",
       "DiscoveredInProgress                    bool\n",
       "DaysOfExposure                       float64\n",
       "DaysElapsedBetweenEndAndDiscovery    float64\n",
       "EndedOnDayDiscovered                    bool\n",
       "DaysElapsedBeforeNotification        float64\n",
       "DaysOfExposureRange                   object\n",
       "EntityState                           object\n",
       "dtype: object"
      ]
     },
     "execution_count": 9,
     "metadata": {},
     "output_type": "execute_result"
    }
   ],
   "source": [
    "washington_data_breach.dtypes"
   ]
  },
  {
   "cell_type": "markdown",
   "id": "7fcc7f5c-9a7a-4cb1-88af-ed4a97b15bad",
   "metadata": {},
   "source": [
    "## What are the causes of the data breaches?"
   ]
  },
  {
   "cell_type": "code",
   "execution_count": 10,
   "id": "903537ad-09e2-4975-86ca-07318633f3de",
   "metadata": {},
   "outputs": [
    {
     "data": {
      "text/plain": [
       "DataBreachCause\n",
       "Cyberattack            1050\n",
       "Unauthorized Access     311\n",
       "Theft or Mistake         87\n",
       "Name: count, dtype: int64"
      ]
     },
     "execution_count": 10,
     "metadata": {},
     "output_type": "execute_result"
    }
   ],
   "source": [
    "washington_data_breach['DataBreachCause'].value_counts()"
   ]
  },
  {
   "cell_type": "markdown",
   "id": "8672cceb-a4b2-4888-b479-ad34e9039543",
   "metadata": {},
   "source": [
    "            I want to create a pie chart for this in PowerBI"
   ]
  },
  {
   "cell_type": "markdown",
   "id": "9eb01660-370f-498a-857a-b43d3a7bd1c6",
   "metadata": {},
   "source": [
    "## What types of Cyber attacks occured?"
   ]
  },
  {
   "cell_type": "code",
   "execution_count": 11,
   "id": "1643b38b-945e-486f-85a0-895b2a7f4948",
   "metadata": {},
   "outputs": [
    {
     "data": {
      "text/plain": [
       "CyberattackType\n",
       "Ransomware         497\n",
       "Malware            224\n",
       "Other              136\n",
       "Phishing           100\n",
       "Unclear/unknown     85\n",
       "Skimmers            15\n",
       "Name: count, dtype: int64"
      ]
     },
     "execution_count": 11,
     "metadata": {},
     "output_type": "execute_result"
    }
   ],
   "source": [
    "washington_data_breach['CyberattackType'].value_counts()"
   ]
  },
  {
   "cell_type": "markdown",
   "id": "bf2afcf4-f93b-495b-a900-5e7f223b5d84",
   "metadata": {},
   "source": [
    "            In the CyberattackType column: converting all unclear/unknown and other to one category called unknown threats.\n",
    "            In the Washington Data Breach all of these events where reported due to some time of Threat to the data so that is \n",
    "            why I am transforming the column using a .replace to unknown threats."
   ]
  },
  {
   "cell_type": "code",
   "execution_count": 12,
   "id": "63ab5b93-8000-48dc-8189-53934aee0134",
   "metadata": {},
   "outputs": [],
   "source": [
    "washington_data_breach['CyberattackType'] = washington_data_breach['CyberattackType'].replace({'Other':'Unknown Threats',\n",
    "                                                                                               'Unclear/unknown' : 'Unknown Threats',\n",
    "                                                                                             })"
   ]
  },
  {
   "cell_type": "markdown",
   "id": "fcccca8e-3466-40a4-98d0-9e9474117efc",
   "metadata": {},
   "source": [
    "        For this column I want to create a visual showing the types of Cyber Attacks that occured in the Washington Data Breach."
   ]
  },
  {
   "cell_type": "code",
   "execution_count": 13,
   "id": "5d604b6b-cb5c-44f3-8f09-d00c56cf84f0",
   "metadata": {},
   "outputs": [
    {
     "data": {
      "image/png": "[encoded data removed]",
      "text/plain": [
       "<Figure size 1000x800 with 1 Axes>"
      ]
     },
     "metadata": {},
     "output_type": "display_data"
    }
   ],
   "source": [
    "plt.figure(figsize = (10,8))\n",
    "washington_data_breach['CyberattackType'].value_counts().plot(kind = 'bar', color = 'firebrick')\n",
    "plt.xticks(rotation = 0, fontsize = 14)\n",
    "plt.yticks(fontsize = 14)\n",
    "plt.xlabel('Cyber Attack', fontsize = 14)\n",
    "plt.ylabel('Attack Occurance', fontsize = 14)\n",
    "plt.title('Types of Cyber Attacks', fontsize = 16, fontweight = 'bold');"
   ]
  },
  {
   "cell_type": "markdown",
   "id": "6c31319a-9e05-4507-9f2f-1b6662aa4a57",
   "metadata": {},
   "source": [
    "## What industry was affected by the Washington Data Breach?"
   ]
  },
  {
   "cell_type": "code",
   "execution_count": 14,
   "id": "5228fa66-a945-42a7-806d-c7069fd76e38",
   "metadata": {},
   "outputs": [
    {
     "data": {
      "text/plain": [
       "IndustryType\n",
       "Business              654\n",
       "Health                277\n",
       "Finance               224\n",
       "Education             122\n",
       "Non-Profit/Charity    118\n",
       "Government             53\n",
       "Name: count, dtype: int64"
      ]
     },
     "execution_count": 14,
     "metadata": {},
     "output_type": "execute_result"
    }
   ],
   "source": [
    "washington_data_breach['IndustryType'].value_counts()"
   ]
  },
  {
   "cell_type": "code",
   "execution_count": 15,
   "id": "1414d67a-2e77-4a46-a0af-e52111e78e9d",
   "metadata": {},
   "outputs": [
    {
     "data": {
      "text/plain": [
       "IndustryType\n",
       "Business              2712\n",
       "Health                1393\n",
       "Finance                974\n",
       "Education              587\n",
       "Non-Profit/Charity     462\n",
       "Government             282\n",
       "Name: count, dtype: int64"
      ]
     },
     "execution_count": 15,
     "metadata": {},
     "output_type": "execute_result"
    }
   ],
   "source": [
    "washington_data_breach_personalinfo['IndustryType'].value_counts()"
   ]
  },
  {
   "cell_type": "code",
   "execution_count": 16,
   "id": "3df276e0-c20a-4bc0-89d0-270d8c7a3fbf",
   "metadata": {},
   "outputs": [
    {
     "data": {
      "text/plain": [
       "BusinessType\n",
       "Other                    149\n",
       "Retail                   133\n",
       "Professional Services     49\n",
       "Hospitality               48\n",
       "Manufacturing             41\n",
       "Software                  35\n",
       "Legal                     29\n",
       "Entertainment             23\n",
       "Consumable                21\n",
       "Clothing                  19\n",
       "Construction              16\n",
       "Web Services              13\n",
       "Transportation            12\n",
       "Telecommunications        11\n",
       "Human Resources           10\n",
       "Shipping                   9\n",
       "Cosmetic                   9\n",
       "Real Estate                8\n",
       "Accessories                8\n",
       "Home                       6\n",
       "Fitness                    6\n",
       "Cleaning                   3\n",
       "Cryptocurrency             2\n",
       "Biotech                    1\n",
       "Name: count, dtype: int64"
      ]
     },
     "execution_count": 16,
     "metadata": {},
     "output_type": "execute_result"
    }
   ],
   "source": [
    "washington_data_breach['BusinessType'].value_counts()"
   ]
  },
  {
   "cell_type": "code",
   "execution_count": 17,
   "id": "ef56c24d-32a2-42ab-a681-f86f37b9ae4d",
   "metadata": {},
   "outputs": [
    {
     "data": {
      "text/plain": [
       "BusinessType\n",
       "Other                    727\n",
       "Retail                   465\n",
       "Professional Services    217\n",
       "Manufacturing            185\n",
       "Legal                    165\n",
       "Hospitality              138\n",
       "Software                 138\n",
       "Entertainment             92\n",
       "Construction              80\n",
       "Consumable                76\n",
       "Telecommunications        62\n",
       "Clothing                  54\n",
       "Shipping                  50\n",
       "Web Services              48\n",
       "Human Resources           42\n",
       "Real Estate               41\n",
       "Transportation            36\n",
       "Cosmetic                  27\n",
       "Accessories               24\n",
       "Fitness                   23\n",
       "Home                      22\n",
       "Cleaning                  15\n",
       "Cryptocurrency             8\n",
       "Biotech                    3\n",
       "Name: count, dtype: int64"
      ]
     },
     "execution_count": 17,
     "metadata": {},
     "output_type": "execute_result"
    }
   ],
   "source": [
    "washington_data_breach_personalinfo['BusinessType'].value_counts()"
   ]
  },
  {
   "cell_type": "code",
   "execution_count": 18,
   "id": "ab40565b-3ce2-45b4-8f41-9eb3d8d50253",
   "metadata": {},
   "outputs": [
    {
     "data": {
      "text/plain": [
       "Year\n",
       "2024    295\n",
       "2021    286\n",
       "2025    209\n",
       "2023    180\n",
       "2022    159\n",
       "2017     77\n",
       "2019     65\n",
       "2018     63\n",
       "2020     60\n",
       "2016     39\n",
       "2026     15\n",
       "Name: count, dtype: int64"
      ]
     },
     "execution_count": 18,
     "metadata": {},
     "output_type": "execute_result"
    }
   ],
   "source": [
    "washington_data_breach['Year'].value_counts()"
   ]
  },
  {
   "cell_type": "markdown",
   "id": "22f708a0-7637-4806-9fca-9f5144fe943e",
   "metadata": {},
   "source": [
    "        This data set shows years 2025 and 2026. I need to cross check date noticed and date submitted and if there is no comparision\n",
    "        I can add NaN values for the Year 2026 on these due to it being incorrect information. Or I can create a code seperating the date from the date aware or the date submitted and create a new year column."
   ]
  },
  {
   "cell_type": "markdown",
   "id": "538645d4-3d0c-49f9-8a20-6c52d689f90e",
   "metadata": {},
   "source": [
    "                                        Current Date Oct 7, 2025 Capstone Day 2"
   ]
  },
  {
   "cell_type": "markdown",
   "id": "fe1d14cd-d6b9-48e9-af76-76583785a46b",
   "metadata": {},
   "source": [
    "            The Year column is not accurate so I am going to use the date aware column to create a year column. I used the date aware column because it predates to the known awareness of the data breach Date Aware Column is a Object I need to convert the column to datetime using pd.to_datetime. \n",
    "            This is important because data breaches sometimes occur prior to us being aware and at this point significant loss of data could have already occured. "
   ]
  },
  {
   "cell_type": "code",
   "execution_count": 19,
   "id": "f001e3ee-4af6-4281-8116-546ab9c24a1c",
   "metadata": {},
   "outputs": [],
   "source": [
    "washington_data_breach = washington_data_breach.rename(columns={'Year':'OldYearColumn'})\n"
   ]
  },
  {
   "cell_type": "code",
   "execution_count": 20,
   "id": "55ed0f6f-d80f-4135-ae18-ac944ac0aecf",
   "metadata": {},
   "outputs": [],
   "source": [
    "washington_data_breach_personalinfo = washington_data_breach_personalinfo.rename(columns= {'Year':'OldYearColumn'})"
   ]
  },
  {
   "cell_type": "markdown",
   "id": "6178defd-6edb-401f-a72b-15b5f27fd851",
   "metadata": {},
   "source": [
    "                OldYearColumn has the Year 2026 in the column and that is inaccurate the current year is 2025."
   ]
  },
  {
   "cell_type": "code",
   "execution_count": 21,
   "id": "1c19d837-9edc-4475-993c-136a3331375e",
   "metadata": {},
   "outputs": [
    {
     "data": {
      "text/plain": [
       "DateAware\n",
       "07/16/2020 12:00:00 AM    71\n",
       "05/31/2023 12:00:00 AM    21\n",
       "02/06/2017 12:00:00 AM    17\n",
       "04/10/2024 12:00:00 AM    14\n",
       "06/01/2023 12:00:00 AM     8\n",
       "                          ..\n",
       "01/12/2017 12:00:00 AM     1\n",
       "12/21/2024 12:00:00 AM     1\n",
       "07/01/2024 12:00:00 AM     1\n",
       "01/05/2017 12:00:00 AM     1\n",
       "03/11/2021 12:00:00 AM     1\n",
       "Name: count, Length: 987, dtype: int64"
      ]
     },
     "execution_count": 21,
     "metadata": {},
     "output_type": "execute_result"
    }
   ],
   "source": [
    "washington_data_breach['DateAware'].value_counts()"
   ]
  },
  {
   "cell_type": "code",
   "execution_count": 22,
   "id": "cd5a0bb3-7c45-46dd-948a-bfa5de4f70b1",
   "metadata": {},
   "outputs": [
    {
     "data": {
      "text/plain": [
       "DateSubmitted\n",
       "08/14/2020 12:00:00 AM    16\n",
       "02/25/2017 12:00:00 AM     8\n",
       "07/25/2022 12:00:00 AM     7\n",
       "07/28/2023 12:00:00 AM     7\n",
       "09/18/2020 12:00:00 AM     7\n",
       "                          ..\n",
       "04/26/2021 12:00:00 AM     1\n",
       "04/29/2021 12:00:00 AM     1\n",
       "04/30/2021 12:00:00 AM     1\n",
       "05/04/2021 12:00:00 AM     1\n",
       "03/16/2021 12:00:00 AM     1\n",
       "Name: count, Length: 960, dtype: int64"
      ]
     },
     "execution_count": 22,
     "metadata": {},
     "output_type": "execute_result"
    }
   ],
   "source": [
    "washington_data_breach['DateSubmitted'].value_counts()"
   ]
  },
  {
   "cell_type": "code",
   "execution_count": 23,
   "id": "b150ff19-4960-4be2-a9e8-7ec1d5567f99",
   "metadata": {},
   "outputs": [
    {
     "name": "stdout",
     "output_type": "stream",
     "text": [
      "<class 'pandas.core.series.Series'>\n",
      "RangeIndex: 1448 entries, 0 to 1447\n",
      "Series name: DateAware\n",
      "Non-Null Count  Dtype \n",
      "--------------  ----- \n",
      "1425 non-null   object\n",
      "dtypes: object(1)\n",
      "memory usage: 11.4+ KB\n"
     ]
    }
   ],
   "source": [
    "washington_data_breach['DateAware'].info()"
   ]
  },
  {
   "cell_type": "code",
   "execution_count": 24,
   "id": "2566d054-572c-4e41-92c5-8f160e3eeb59",
   "metadata": {},
   "outputs": [
    {
     "data": {
      "text/plain": [
       "'02/04/2021 12:00:00 AM'"
      ]
     },
     "execution_count": 24,
     "metadata": {},
     "output_type": "execute_result"
    }
   ],
   "source": [
    "washington_data_breach.loc[0, 'DateAware']"
   ]
  },
  {
   "cell_type": "raw",
   "id": "c87baa3f-65fe-4490-bb18-502a91a0337a",
   "metadata": {},
   "source": [
    "            The OldYearColumn is not accurate so I am going to use the date aware column to create a year column. I used the date aware column because it predates to the known awareness of the data breach Date Aware Column is a Object I need to convert the column to datetime using pd.to_datetime. \n",
    "            This is important because data breaches sometimes occur prior to us being aware and at this point significant loss of data could have already occured. "
   ]
  },
  {
   "cell_type": "code",
   "execution_count": 25,
   "id": "e7606896-6efc-448a-94c0-bc12b2eb941e",
   "metadata": {},
   "outputs": [
    {
     "name": "stderr",
     "output_type": "stream",
     "text": [
      "C:\\Users\\russe\\AppData\\Local\\Temp\\ipykernel_15264\\3406532444.py:1: UserWarning: Could not infer format, so each element will be parsed individually, falling back to `dateutil`. To ensure parsing is consistent and as-expected, please specify a format.\n",
      "  washington_data_breach['DateAware']=pd.to_datetime(washington_data_breach['DateAware'])\n"
     ]
    }
   ],
   "source": [
    "washington_data_breach['DateAware']=pd.to_datetime(washington_data_breach['DateAware'])"
   ]
  },
  {
   "cell_type": "code",
   "execution_count": 26,
   "id": "1433a2e1-2bd9-4763-9c67-ffe33aebd010",
   "metadata": {},
   "outputs": [
    {
     "name": "stderr",
     "output_type": "stream",
     "text": [
      "C:\\Users\\russe\\AppData\\Local\\Temp\\ipykernel_15264\\1959494725.py:1: UserWarning: Could not infer format, so each element will be parsed individually, falling back to `dateutil`. To ensure parsing is consistent and as-expected, please specify a format.\n",
      "  washington_data_breach['DateSubmitted']=pd.to_datetime(washington_data_breach['DateSubmitted'])\n"
     ]
    }
   ],
   "source": [
    "washington_data_breach['DateSubmitted']=pd.to_datetime(washington_data_breach['DateSubmitted'])"
   ]
  },
  {
   "cell_type": "code",
   "execution_count": 27,
   "id": "ad2c5c3f-9ae0-48cf-9691-6b7d827dd876",
   "metadata": {},
   "outputs": [
    {
     "name": "stderr",
     "output_type": "stream",
     "text": [
      "C:\\Users\\russe\\AppData\\Local\\Temp\\ipykernel_15264\\2352623315.py:1: UserWarning: Could not infer format, so each element will be parsed individually, falling back to `dateutil`. To ensure parsing is consistent and as-expected, please specify a format.\n",
      "  washington_data_breach_personalinfo['DateAware']=pd.to_datetime(washington_data_breach_personalinfo['DateAware'])\n"
     ]
    }
   ],
   "source": [
    "washington_data_breach_personalinfo['DateAware']=pd.to_datetime(washington_data_breach_personalinfo['DateAware'])"
   ]
  },
  {
   "cell_type": "code",
   "execution_count": 28,
   "id": "0ab44883-0c07-4d66-9686-7e0291f292b4",
   "metadata": {},
   "outputs": [
    {
     "name": "stderr",
     "output_type": "stream",
     "text": [
      "C:\\Users\\russe\\AppData\\Local\\Temp\\ipykernel_15264\\978663781.py:1: UserWarning: Could not infer format, so each element will be parsed individually, falling back to `dateutil`. To ensure parsing is consistent and as-expected, please specify a format.\n",
      "  washington_data_breach_personalinfo['DateSubmitted']=pd.to_datetime(washington_data_breach_personalinfo['DateSubmitted'])\n"
     ]
    }
   ],
   "source": [
    "washington_data_breach_personalinfo['DateSubmitted']=pd.to_datetime(washington_data_breach_personalinfo['DateSubmitted'])"
   ]
  },
  {
   "cell_type": "code",
   "execution_count": 29,
   "id": "df50c0b7-bf26-42e0-9465-47a12fb601db",
   "metadata": {},
   "outputs": [
    {
     "data": {
      "text/html": [
       "<div>\n",
       "<style scoped>\n",
       "    .dataframe tbody tr th:only-of-type {\n",
       "        vertical-align: middle;\n",
       "    }\n",
       "\n",
       "    .dataframe tbody tr th {\n",
       "        vertical-align: top;\n",
       "    }\n",
       "\n",
       "    .dataframe thead th {\n",
       "        text-align: right;\n",
       "    }\n",
       "</style>\n",
       "<table border=\"1\" class=\"dataframe\">\n",
       "  <thead>\n",
       "    <tr style=\"text-align: right;\">\n",
       "      <th></th>\n",
       "      <th>DateAware</th>\n",
       "      <th>DateSubmitted</th>\n",
       "      <th>DataBreachCause</th>\n",
       "      <th>DateStart</th>\n",
       "      <th>DateEnd</th>\n",
       "      <th>Name</th>\n",
       "      <th>Id</th>\n",
       "      <th>CyberattackType</th>\n",
       "      <th>WashingtoniansAffected</th>\n",
       "      <th>IndustryType</th>\n",
       "      <th>...</th>\n",
       "      <th>DaysToIdentifyBreach</th>\n",
       "      <th>DaysBreachLifecycle</th>\n",
       "      <th>DiscoveredInProgress</th>\n",
       "      <th>DaysOfExposure</th>\n",
       "      <th>DaysElapsedBetweenEndAndDiscovery</th>\n",
       "      <th>EndedOnDayDiscovered</th>\n",
       "      <th>DaysElapsedBeforeNotification</th>\n",
       "      <th>DaysOfExposureRange</th>\n",
       "      <th>EntityState</th>\n",
       "      <th>Year</th>\n",
       "    </tr>\n",
       "  </thead>\n",
       "  <tbody>\n",
       "    <tr>\n",
       "      <th>0</th>\n",
       "      <td>2021-02-04</td>\n",
       "      <td>2021-03-17</td>\n",
       "      <td>Cyberattack</td>\n",
       "      <td>02/04/2021 12:00:00 AM</td>\n",
       "      <td>02/08/2021 12:00:00 AM</td>\n",
       "      <td>Automatic Funds Transfer Services Inc.</td>\n",
       "      <td>10427</td>\n",
       "      <td>Ransomware</td>\n",
       "      <td>695.0</td>\n",
       "      <td>Finance</td>\n",
       "      <td>...</td>\n",
       "      <td>0.0</td>\n",
       "      <td>4.0</td>\n",
       "      <td>True</td>\n",
       "      <td>4.0</td>\n",
       "      <td>NaN</td>\n",
       "      <td>False</td>\n",
       "      <td>41.0</td>\n",
       "      <td>1-99</td>\n",
       "      <td>NaN</td>\n",
       "      <td>2021.0</td>\n",
       "    </tr>\n",
       "    <tr>\n",
       "      <th>1</th>\n",
       "      <td>2019-12-20</td>\n",
       "      <td>2021-03-17</td>\n",
       "      <td>Cyberattack</td>\n",
       "      <td>NaN</td>\n",
       "      <td>NaN</td>\n",
       "      <td>PCS Revenue Control Systems</td>\n",
       "      <td>10428</td>\n",
       "      <td>Phishing</td>\n",
       "      <td>11807.0</td>\n",
       "      <td>Business</td>\n",
       "      <td>...</td>\n",
       "      <td>NaN</td>\n",
       "      <td>NaN</td>\n",
       "      <td>False</td>\n",
       "      <td>NaN</td>\n",
       "      <td>NaN</td>\n",
       "      <td>False</td>\n",
       "      <td>453.0</td>\n",
       "      <td>Unknown</td>\n",
       "      <td>NaN</td>\n",
       "      <td>2019.0</td>\n",
       "    </tr>\n",
       "    <tr>\n",
       "      <th>2</th>\n",
       "      <td>2021-02-22</td>\n",
       "      <td>2021-03-17</td>\n",
       "      <td>Cyberattack</td>\n",
       "      <td>12/24/2020 12:00:00 AM</td>\n",
       "      <td>12/29/2020 12:00:00 AM</td>\n",
       "      <td>Western Union Retail Money Transfer Partner</td>\n",
       "      <td>10429</td>\n",
       "      <td>Malware</td>\n",
       "      <td>1555.0</td>\n",
       "      <td>Finance</td>\n",
       "      <td>...</td>\n",
       "      <td>60.0</td>\n",
       "      <td>60.0</td>\n",
       "      <td>False</td>\n",
       "      <td>5.0</td>\n",
       "      <td>55.0</td>\n",
       "      <td>False</td>\n",
       "      <td>23.0</td>\n",
       "      <td>1-99</td>\n",
       "      <td>NaN</td>\n",
       "      <td>2021.0</td>\n",
       "    </tr>\n",
       "    <tr>\n",
       "      <th>3</th>\n",
       "      <td>2020-05-24</td>\n",
       "      <td>2021-03-18</td>\n",
       "      <td>Cyberattack</td>\n",
       "      <td>05/24/2020 12:00:00 AM</td>\n",
       "      <td>NaN</td>\n",
       "      <td>Manson Counstruction Co.</td>\n",
       "      <td>10430</td>\n",
       "      <td>Unknown Threats</td>\n",
       "      <td>1049.0</td>\n",
       "      <td>Business</td>\n",
       "      <td>...</td>\n",
       "      <td>0.0</td>\n",
       "      <td>NaN</td>\n",
       "      <td>False</td>\n",
       "      <td>NaN</td>\n",
       "      <td>NaN</td>\n",
       "      <td>False</td>\n",
       "      <td>298.0</td>\n",
       "      <td>Unknown</td>\n",
       "      <td>NaN</td>\n",
       "      <td>2020.0</td>\n",
       "    </tr>\n",
       "    <tr>\n",
       "      <th>4</th>\n",
       "      <td>2021-01-18</td>\n",
       "      <td>2021-03-19</td>\n",
       "      <td>Cyberattack</td>\n",
       "      <td>01/12/2021 12:00:00 AM</td>\n",
       "      <td>01/18/2021 12:00:00 AM</td>\n",
       "      <td>Cancer Treatment Centers of America</td>\n",
       "      <td>10431</td>\n",
       "      <td>Phishing</td>\n",
       "      <td>579.0</td>\n",
       "      <td>Health</td>\n",
       "      <td>...</td>\n",
       "      <td>6.0</td>\n",
       "      <td>6.0</td>\n",
       "      <td>True</td>\n",
       "      <td>6.0</td>\n",
       "      <td>NaN</td>\n",
       "      <td>True</td>\n",
       "      <td>60.0</td>\n",
       "      <td>1-99</td>\n",
       "      <td>NaN</td>\n",
       "      <td>2021.0</td>\n",
       "    </tr>\n",
       "  </tbody>\n",
       "</table>\n",
       "<p>5 rows × 26 columns</p>\n",
       "</div>"
      ],
      "text/plain": [
       "   DateAware DateSubmitted DataBreachCause               DateStart  \\\n",
       "0 2021-02-04    2021-03-17     Cyberattack  02/04/2021 12:00:00 AM   \n",
       "1 2019-12-20    2021-03-17     Cyberattack                     NaN   \n",
       "2 2021-02-22    2021-03-17     Cyberattack  12/24/2020 12:00:00 AM   \n",
       "3 2020-05-24    2021-03-18     Cyberattack  05/24/2020 12:00:00 AM   \n",
       "4 2021-01-18    2021-03-19     Cyberattack  01/12/2021 12:00:00 AM   \n",
       "\n",
       "                  DateEnd                                         Name     Id  \\\n",
       "0  02/08/2021 12:00:00 AM       Automatic Funds Transfer Services Inc.  10427   \n",
       "1                     NaN                  PCS Revenue Control Systems  10428   \n",
       "2  12/29/2020 12:00:00 AM  Western Union Retail Money Transfer Partner  10429   \n",
       "3                     NaN                     Manson Counstruction Co.  10430   \n",
       "4  01/18/2021 12:00:00 AM          Cancer Treatment Centers of America  10431   \n",
       "\n",
       "   CyberattackType  WashingtoniansAffected IndustryType  ...  \\\n",
       "0       Ransomware                   695.0      Finance  ...   \n",
       "1         Phishing                 11807.0     Business  ...   \n",
       "2          Malware                  1555.0      Finance  ...   \n",
       "3  Unknown Threats                  1049.0     Business  ...   \n",
       "4         Phishing                   579.0       Health  ...   \n",
       "\n",
       "  DaysToIdentifyBreach  DaysBreachLifecycle  DiscoveredInProgress  \\\n",
       "0                  0.0                  4.0                  True   \n",
       "1                  NaN                  NaN                 False   \n",
       "2                 60.0                 60.0                 False   \n",
       "3                  0.0                  NaN                 False   \n",
       "4                  6.0                  6.0                  True   \n",
       "\n",
       "  DaysOfExposure DaysElapsedBetweenEndAndDiscovery  EndedOnDayDiscovered  \\\n",
       "0            4.0                               NaN                 False   \n",
       "1            NaN                               NaN                 False   \n",
       "2            5.0                              55.0                 False   \n",
       "3            NaN                               NaN                 False   \n",
       "4            6.0                               NaN                  True   \n",
       "\n",
       "   DaysElapsedBeforeNotification  DaysOfExposureRange  EntityState    Year  \n",
       "0                           41.0                 1-99          NaN  2021.0  \n",
       "1                          453.0              Unknown          NaN  2019.0  \n",
       "2                           23.0                 1-99          NaN  2021.0  \n",
       "3                          298.0              Unknown          NaN  2020.0  \n",
       "4                           60.0                 1-99          NaN  2021.0  \n",
       "\n",
       "[5 rows x 26 columns]"
      ]
     },
     "execution_count": 29,
     "metadata": {},
     "output_type": "execute_result"
    }
   ],
   "source": [
    "washington_data_breach['Year'] = washington_data_breach['DateAware'].dt.year\n",
    "washington_data_breach.head()"
   ]
  },
  {
   "cell_type": "code",
   "execution_count": 30,
   "id": "a24ff148-e96f-485c-aa58-ef0f4bf38055",
   "metadata": {},
   "outputs": [
    {
     "data": {
      "text/html": [
       "<div>\n",
       "<style scoped>\n",
       "    .dataframe tbody tr th:only-of-type {\n",
       "        vertical-align: middle;\n",
       "    }\n",
       "\n",
       "    .dataframe tbody tr th {\n",
       "        vertical-align: top;\n",
       "    }\n",
       "\n",
       "    .dataframe thead th {\n",
       "        text-align: right;\n",
       "    }\n",
       "</style>\n",
       "<table border=\"1\" class=\"dataframe\">\n",
       "  <thead>\n",
       "    <tr style=\"text-align: right;\">\n",
       "      <th></th>\n",
       "      <th>Id</th>\n",
       "      <th>DateAware</th>\n",
       "      <th>DateSubmitted</th>\n",
       "      <th>DataBreachCause</th>\n",
       "      <th>DateStart</th>\n",
       "      <th>DateEnd</th>\n",
       "      <th>Name</th>\n",
       "      <th>CyberattackType</th>\n",
       "      <th>WashingtoniansAffected</th>\n",
       "      <th>IndustryType</th>\n",
       "      <th>BusinessType</th>\n",
       "      <th>InformationType</th>\n",
       "      <th>OldYearColumn</th>\n",
       "      <th>WashingtoniansAffectedRange</th>\n",
       "      <th>BreachLifecycleRange</th>\n",
       "      <th>EntityState</th>\n",
       "      <th>Year</th>\n",
       "    </tr>\n",
       "  </thead>\n",
       "  <tbody>\n",
       "    <tr>\n",
       "      <th>0</th>\n",
       "      <td>9707</td>\n",
       "      <td>2017-02-06</td>\n",
       "      <td>2017-05-24</td>\n",
       "      <td>Cyberattack</td>\n",
       "      <td>2016-02-26T00:00:00</td>\n",
       "      <td>2016-12-05T00:00:00</td>\n",
       "      <td>Incipio, LLC</td>\n",
       "      <td>Unclear/unknown</td>\n",
       "      <td>1650.0</td>\n",
       "      <td>Business</td>\n",
       "      <td>Accessories</td>\n",
       "      <td>Other</td>\n",
       "      <td>2017</td>\n",
       "      <td>1,000-9,999</td>\n",
       "      <td>300-399</td>\n",
       "      <td>NaN</td>\n",
       "      <td>2017.0</td>\n",
       "    </tr>\n",
       "    <tr>\n",
       "      <th>1</th>\n",
       "      <td>9708</td>\n",
       "      <td>2017-05-26</td>\n",
       "      <td>2017-05-26</td>\n",
       "      <td>Unauthorized Access</td>\n",
       "      <td>2013-10-23T00:00:00</td>\n",
       "      <td>2017-03-31T00:00:00</td>\n",
       "      <td>Kennewick Public Hospital District, dba Trios ...</td>\n",
       "      <td>NaN</td>\n",
       "      <td>942.0</td>\n",
       "      <td>Health</td>\n",
       "      <td>NaN</td>\n",
       "      <td>Name</td>\n",
       "      <td>2017</td>\n",
       "      <td>500-999</td>\n",
       "      <td>500+</td>\n",
       "      <td>NaN</td>\n",
       "      <td>2017.0</td>\n",
       "    </tr>\n",
       "    <tr>\n",
       "      <th>2</th>\n",
       "      <td>9708</td>\n",
       "      <td>2017-05-26</td>\n",
       "      <td>2017-05-26</td>\n",
       "      <td>Unauthorized Access</td>\n",
       "      <td>2013-10-23T00:00:00</td>\n",
       "      <td>2017-03-31T00:00:00</td>\n",
       "      <td>Kennewick Public Hospital District, dba Trios ...</td>\n",
       "      <td>NaN</td>\n",
       "      <td>942.0</td>\n",
       "      <td>Health</td>\n",
       "      <td>NaN</td>\n",
       "      <td>Medical Information</td>\n",
       "      <td>2017</td>\n",
       "      <td>500-999</td>\n",
       "      <td>500+</td>\n",
       "      <td>NaN</td>\n",
       "      <td>2017.0</td>\n",
       "    </tr>\n",
       "    <tr>\n",
       "      <th>3</th>\n",
       "      <td>9710</td>\n",
       "      <td>2017-04-18</td>\n",
       "      <td>2017-06-05</td>\n",
       "      <td>Unauthorized Access</td>\n",
       "      <td>2016-08-10T00:00:00</td>\n",
       "      <td>2017-02-09T00:00:00</td>\n",
       "      <td>GameStop, Inc.</td>\n",
       "      <td>NaN</td>\n",
       "      <td>27956.0</td>\n",
       "      <td>Business</td>\n",
       "      <td>Retail</td>\n",
       "      <td>Name</td>\n",
       "      <td>2017</td>\n",
       "      <td>10,000-49,999</td>\n",
       "      <td>200-299</td>\n",
       "      <td>NaN</td>\n",
       "      <td>2017.0</td>\n",
       "    </tr>\n",
       "    <tr>\n",
       "      <th>4</th>\n",
       "      <td>9710</td>\n",
       "      <td>2017-04-18</td>\n",
       "      <td>2017-06-05</td>\n",
       "      <td>Unauthorized Access</td>\n",
       "      <td>2016-08-10T00:00:00</td>\n",
       "      <td>2017-02-09T00:00:00</td>\n",
       "      <td>GameStop, Inc.</td>\n",
       "      <td>NaN</td>\n",
       "      <td>27956.0</td>\n",
       "      <td>Business</td>\n",
       "      <td>Retail</td>\n",
       "      <td>Financial &amp; Banking Information</td>\n",
       "      <td>2017</td>\n",
       "      <td>10,000-49,999</td>\n",
       "      <td>200-299</td>\n",
       "      <td>NaN</td>\n",
       "      <td>2017.0</td>\n",
       "    </tr>\n",
       "  </tbody>\n",
       "</table>\n",
       "</div>"
      ],
      "text/plain": [
       "     Id  DateAware DateSubmitted      DataBreachCause            DateStart  \\\n",
       "0  9707 2017-02-06    2017-05-24          Cyberattack  2016-02-26T00:00:00   \n",
       "1  9708 2017-05-26    2017-05-26  Unauthorized Access  2013-10-23T00:00:00   \n",
       "2  9708 2017-05-26    2017-05-26  Unauthorized Access  2013-10-23T00:00:00   \n",
       "3  9710 2017-04-18    2017-06-05  Unauthorized Access  2016-08-10T00:00:00   \n",
       "4  9710 2017-04-18    2017-06-05  Unauthorized Access  2016-08-10T00:00:00   \n",
       "\n",
       "               DateEnd                                               Name  \\\n",
       "0  2016-12-05T00:00:00                                       Incipio, LLC   \n",
       "1  2017-03-31T00:00:00  Kennewick Public Hospital District, dba Trios ...   \n",
       "2  2017-03-31T00:00:00  Kennewick Public Hospital District, dba Trios ...   \n",
       "3  2017-02-09T00:00:00                                     GameStop, Inc.   \n",
       "4  2017-02-09T00:00:00                                     GameStop, Inc.   \n",
       "\n",
       "   CyberattackType  WashingtoniansAffected IndustryType BusinessType  \\\n",
       "0  Unclear/unknown                  1650.0     Business  Accessories   \n",
       "1              NaN                   942.0       Health          NaN   \n",
       "2              NaN                   942.0       Health          NaN   \n",
       "3              NaN                 27956.0     Business       Retail   \n",
       "4              NaN                 27956.0     Business       Retail   \n",
       "\n",
       "                   InformationType  OldYearColumn WashingtoniansAffectedRange  \\\n",
       "0                            Other           2017                 1,000-9,999   \n",
       "1                             Name           2017                     500-999   \n",
       "2              Medical Information           2017                     500-999   \n",
       "3                             Name           2017               10,000-49,999   \n",
       "4  Financial & Banking Information           2017               10,000-49,999   \n",
       "\n",
       "  BreachLifecycleRange EntityState    Year  \n",
       "0              300-399         NaN  2017.0  \n",
       "1                 500+         NaN  2017.0  \n",
       "2                 500+         NaN  2017.0  \n",
       "3              200-299         NaN  2017.0  \n",
       "4              200-299         NaN  2017.0  "
      ]
     },
     "execution_count": 30,
     "metadata": {},
     "output_type": "execute_result"
    }
   ],
   "source": [
    "washington_data_breach_personalinfo['Year'] = washington_data_breach_personalinfo['DateAware'].dt.year\n",
    "washington_data_breach_personalinfo.head()"
   ]
  },
  {
   "cell_type": "markdown",
   "id": "030bb4e4-5a38-4b2f-8616-00cef24d01f5",
   "metadata": {},
   "source": [
    "# Above Shows the corrected Year column\n"
   ]
  },
  {
   "cell_type": "markdown",
   "id": "0712edfd-0e76-4545-b464-a826245ec94e",
   "metadata": {},
   "source": [
    "                I created a Year Column so now I am going to drop the year in both datasets using .drop.\n",
    "                First I would need to go above in the code and change the original Column 'Year' to 'OldYearColumn'.\n",
    "                    OldYearColumn has the Year 2026 in the column and that is inaccurate the current year is 2025."
   ]
  },
  {
   "cell_type": "code",
   "execution_count": 31,
   "id": "a8d1831c-09b1-4981-8f48-1d0e6243e761",
   "metadata": {},
   "outputs": [
    {
     "data": {
      "text/plain": [
       "Year\n",
       "2023.0    316\n",
       "2020.0    243\n",
       "2024.0    204\n",
       "2021.0    192\n",
       "2022.0    147\n",
       "2017.0     82\n",
       "2018.0     64\n",
       "2019.0     64\n",
       "2025.0     57\n",
       "2016.0     37\n",
       "2015.0     18\n",
       "2014.0      1\n",
       "Name: count, dtype: int64"
      ]
     },
     "execution_count": 31,
     "metadata": {},
     "output_type": "execute_result"
    }
   ],
   "source": [
    "washington_data_breach['Year'].value_counts() "
   ]
  },
  {
   "cell_type": "code",
   "execution_count": 32,
   "id": "638f0c44-aefe-4272-a993-091e58fe2f01",
   "metadata": {},
   "outputs": [
    {
     "data": {
      "text/plain": [
       "Year\n",
       "2023.0    1536\n",
       "2024.0    1062\n",
       "2020.0     980\n",
       "2021.0     899\n",
       "2022.0     651\n",
       "2025.0     301\n",
       "2017.0     263\n",
       "2019.0     248\n",
       "2018.0     217\n",
       "2016.0     109\n",
       "2015.0      61\n",
       "2014.0       2\n",
       "Name: count, dtype: int64"
      ]
     },
     "execution_count": 32,
     "metadata": {},
     "output_type": "execute_result"
    }
   ],
   "source": [
    "washington_data_breach_personalinfo['Year'].value_counts()"
   ]
  },
  {
   "cell_type": "markdown",
   "id": "8aa5243e-c39d-4a1c-a778-50cdd6bd0ca2",
   "metadata": {},
   "source": [
    "                    There are no 2026 values in this Year list So I will drop the original year column."
   ]
  },
  {
   "cell_type": "code",
   "execution_count": 33,
   "id": "cab43a86-63d4-4819-80d0-a5524a9e960a",
   "metadata": {},
   "outputs": [],
   "source": [
    "washington_data_breach = washington_data_breach.drop(columns=['OldYearColumn'])"
   ]
  },
  {
   "cell_type": "code",
   "execution_count": 34,
   "id": "5b96837a-e473-46f1-a9cf-095b3c4b919d",
   "metadata": {},
   "outputs": [],
   "source": [
    "#washington_data_breach_personalinfo = washington_data_breach_personalinfo['OldYearColumn'].drop(columns=['OldYearColumn'])\n",
    "                                #This code is Causing my year column not to run below"
   ]
  },
  {
   "cell_type": "markdown",
   "id": "ddab5d58-01de-47be-8cd5-a83d7200bf24",
   "metadata": {},
   "source": [
    "    Creating a Breach Occurance to show the occurance of data breaches overtime. First I have to Create a new dataframe label it breach occurance, reset the index, rename the columns, then sort the values by year. Finally I will use a line plot to show the Occurance overtime by year. "
   ]
  },
  {
   "cell_type": "code",
   "execution_count": 35,
   "id": "36410d5d-31b7-4d14-85db-ecb59486e432",
   "metadata": {},
   "outputs": [],
   "source": [
    "BreachOccurance =washington_data_breach['Year'].value_counts()\n",
    "BreachOccurance.reset_index()\n",
    "BreachOccurance=pd.DataFrame(BreachOccurance)"
   ]
  },
  {
   "cell_type": "code",
   "execution_count": 36,
   "id": "dd0bc14b-1163-45e9-b956-4c34db8fb3c5",
   "metadata": {},
   "outputs": [
    {
     "data": {
      "text/html": [
       "<div>\n",
       "<style scoped>\n",
       "    .dataframe tbody tr th:only-of-type {\n",
       "        vertical-align: middle;\n",
       "    }\n",
       "\n",
       "    .dataframe tbody tr th {\n",
       "        vertical-align: top;\n",
       "    }\n",
       "\n",
       "    .dataframe thead th {\n",
       "        text-align: right;\n",
       "    }\n",
       "</style>\n",
       "<table border=\"1\" class=\"dataframe\">\n",
       "  <thead>\n",
       "    <tr style=\"text-align: right;\">\n",
       "      <th></th>\n",
       "      <th>Year</th>\n",
       "      <th>count</th>\n",
       "    </tr>\n",
       "  </thead>\n",
       "  <tbody>\n",
       "    <tr>\n",
       "      <th>0</th>\n",
       "      <td>2023.0</td>\n",
       "      <td>316</td>\n",
       "    </tr>\n",
       "    <tr>\n",
       "      <th>1</th>\n",
       "      <td>2020.0</td>\n",
       "      <td>243</td>\n",
       "    </tr>\n",
       "    <tr>\n",
       "      <th>2</th>\n",
       "      <td>2024.0</td>\n",
       "      <td>204</td>\n",
       "    </tr>\n",
       "    <tr>\n",
       "      <th>3</th>\n",
       "      <td>2021.0</td>\n",
       "      <td>192</td>\n",
       "    </tr>\n",
       "    <tr>\n",
       "      <th>4</th>\n",
       "      <td>2022.0</td>\n",
       "      <td>147</td>\n",
       "    </tr>\n",
       "    <tr>\n",
       "      <th>5</th>\n",
       "      <td>2017.0</td>\n",
       "      <td>82</td>\n",
       "    </tr>\n",
       "    <tr>\n",
       "      <th>6</th>\n",
       "      <td>2018.0</td>\n",
       "      <td>64</td>\n",
       "    </tr>\n",
       "    <tr>\n",
       "      <th>7</th>\n",
       "      <td>2019.0</td>\n",
       "      <td>64</td>\n",
       "    </tr>\n",
       "    <tr>\n",
       "      <th>8</th>\n",
       "      <td>2025.0</td>\n",
       "      <td>57</td>\n",
       "    </tr>\n",
       "    <tr>\n",
       "      <th>9</th>\n",
       "      <td>2016.0</td>\n",
       "      <td>37</td>\n",
       "    </tr>\n",
       "    <tr>\n",
       "      <th>10</th>\n",
       "      <td>2015.0</td>\n",
       "      <td>18</td>\n",
       "    </tr>\n",
       "    <tr>\n",
       "      <th>11</th>\n",
       "      <td>2014.0</td>\n",
       "      <td>1</td>\n",
       "    </tr>\n",
       "  </tbody>\n",
       "</table>\n",
       "</div>"
      ],
      "text/plain": [
       "      Year  count\n",
       "0   2023.0    316\n",
       "1   2020.0    243\n",
       "2   2024.0    204\n",
       "3   2021.0    192\n",
       "4   2022.0    147\n",
       "5   2017.0     82\n",
       "6   2018.0     64\n",
       "7   2019.0     64\n",
       "8   2025.0     57\n",
       "9   2016.0     37\n",
       "10  2015.0     18\n",
       "11  2014.0      1"
      ]
     },
     "execution_count": 36,
     "metadata": {},
     "output_type": "execute_result"
    }
   ],
   "source": [
    "BreachOccurance.reset_index()"
   ]
  },
  {
   "cell_type": "code",
   "execution_count": 37,
   "id": "16f67264-2d8c-4687-809e-e968f4edeacf",
   "metadata": {},
   "outputs": [
    {
     "data": {
      "text/html": [
       "<div>\n",
       "<style scoped>\n",
       "    .dataframe tbody tr th:only-of-type {\n",
       "        vertical-align: middle;\n",
       "    }\n",
       "\n",
       "    .dataframe tbody tr th {\n",
       "        vertical-align: top;\n",
       "    }\n",
       "\n",
       "    .dataframe thead th {\n",
       "        text-align: right;\n",
       "    }\n",
       "</style>\n",
       "<table border=\"1\" class=\"dataframe\">\n",
       "  <thead>\n",
       "    <tr style=\"text-align: right;\">\n",
       "      <th></th>\n",
       "      <th>Year</th>\n",
       "      <th>AttackOccurance</th>\n",
       "    </tr>\n",
       "  </thead>\n",
       "  <tbody>\n",
       "    <tr>\n",
       "      <th>0</th>\n",
       "      <td>2023.0</td>\n",
       "      <td>316</td>\n",
       "    </tr>\n",
       "    <tr>\n",
       "      <th>1</th>\n",
       "      <td>2020.0</td>\n",
       "      <td>243</td>\n",
       "    </tr>\n",
       "    <tr>\n",
       "      <th>2</th>\n",
       "      <td>2024.0</td>\n",
       "      <td>204</td>\n",
       "    </tr>\n",
       "    <tr>\n",
       "      <th>3</th>\n",
       "      <td>2021.0</td>\n",
       "      <td>192</td>\n",
       "    </tr>\n",
       "    <tr>\n",
       "      <th>4</th>\n",
       "      <td>2022.0</td>\n",
       "      <td>147</td>\n",
       "    </tr>\n",
       "    <tr>\n",
       "      <th>5</th>\n",
       "      <td>2017.0</td>\n",
       "      <td>82</td>\n",
       "    </tr>\n",
       "    <tr>\n",
       "      <th>6</th>\n",
       "      <td>2018.0</td>\n",
       "      <td>64</td>\n",
       "    </tr>\n",
       "    <tr>\n",
       "      <th>7</th>\n",
       "      <td>2019.0</td>\n",
       "      <td>64</td>\n",
       "    </tr>\n",
       "    <tr>\n",
       "      <th>8</th>\n",
       "      <td>2025.0</td>\n",
       "      <td>57</td>\n",
       "    </tr>\n",
       "    <tr>\n",
       "      <th>9</th>\n",
       "      <td>2016.0</td>\n",
       "      <td>37</td>\n",
       "    </tr>\n",
       "    <tr>\n",
       "      <th>10</th>\n",
       "      <td>2015.0</td>\n",
       "      <td>18</td>\n",
       "    </tr>\n",
       "    <tr>\n",
       "      <th>11</th>\n",
       "      <td>2014.0</td>\n",
       "      <td>1</td>\n",
       "    </tr>\n",
       "  </tbody>\n",
       "</table>\n",
       "</div>"
      ],
      "text/plain": [
       "      Year  AttackOccurance\n",
       "0   2023.0              316\n",
       "1   2020.0              243\n",
       "2   2024.0              204\n",
       "3   2021.0              192\n",
       "4   2022.0              147\n",
       "5   2017.0               82\n",
       "6   2018.0               64\n",
       "7   2019.0               64\n",
       "8   2025.0               57\n",
       "9   2016.0               37\n",
       "10  2015.0               18\n",
       "11  2014.0                1"
      ]
     },
     "execution_count": 37,
     "metadata": {},
     "output_type": "execute_result"
    }
   ],
   "source": [
    "BreachOccurance = BreachOccurance.rename(columns={'Year' : 'Year', 'count': 'AttackOccurance'})\n",
    "BreachOccurance.reset_index()"
   ]
  },
  {
   "cell_type": "code",
   "execution_count": 38,
   "id": "ccb0d47c-94df-49b0-b589-60bfafb0750f",
   "metadata": {},
   "outputs": [],
   "source": [
    "BreachOccurance = BreachOccurance.sort_values(by='Year').reset_index()"
   ]
  },
  {
   "cell_type": "code",
   "execution_count": 39,
   "id": "a7af089c-9d90-4708-803a-e16991798aaa",
   "metadata": {},
   "outputs": [
    {
     "data": {
      "text/html": [
       "<div>\n",
       "<style scoped>\n",
       "    .dataframe tbody tr th:only-of-type {\n",
       "        vertical-align: middle;\n",
       "    }\n",
       "\n",
       "    .dataframe tbody tr th {\n",
       "        vertical-align: top;\n",
       "    }\n",
       "\n",
       "    .dataframe thead th {\n",
       "        text-align: right;\n",
       "    }\n",
       "</style>\n",
       "<table border=\"1\" class=\"dataframe\">\n",
       "  <thead>\n",
       "    <tr style=\"text-align: right;\">\n",
       "      <th></th>\n",
       "      <th>Year</th>\n",
       "      <th>AttackOccurance</th>\n",
       "    </tr>\n",
       "  </thead>\n",
       "  <tbody>\n",
       "    <tr>\n",
       "      <th>0</th>\n",
       "      <td>2014.0</td>\n",
       "      <td>1</td>\n",
       "    </tr>\n",
       "    <tr>\n",
       "      <th>1</th>\n",
       "      <td>2015.0</td>\n",
       "      <td>18</td>\n",
       "    </tr>\n",
       "    <tr>\n",
       "      <th>2</th>\n",
       "      <td>2016.0</td>\n",
       "      <td>37</td>\n",
       "    </tr>\n",
       "    <tr>\n",
       "      <th>3</th>\n",
       "      <td>2017.0</td>\n",
       "      <td>82</td>\n",
       "    </tr>\n",
       "    <tr>\n",
       "      <th>4</th>\n",
       "      <td>2018.0</td>\n",
       "      <td>64</td>\n",
       "    </tr>\n",
       "    <tr>\n",
       "      <th>5</th>\n",
       "      <td>2019.0</td>\n",
       "      <td>64</td>\n",
       "    </tr>\n",
       "    <tr>\n",
       "      <th>6</th>\n",
       "      <td>2020.0</td>\n",
       "      <td>243</td>\n",
       "    </tr>\n",
       "    <tr>\n",
       "      <th>7</th>\n",
       "      <td>2021.0</td>\n",
       "      <td>192</td>\n",
       "    </tr>\n",
       "    <tr>\n",
       "      <th>8</th>\n",
       "      <td>2022.0</td>\n",
       "      <td>147</td>\n",
       "    </tr>\n",
       "    <tr>\n",
       "      <th>9</th>\n",
       "      <td>2023.0</td>\n",
       "      <td>316</td>\n",
       "    </tr>\n",
       "    <tr>\n",
       "      <th>10</th>\n",
       "      <td>2024.0</td>\n",
       "      <td>204</td>\n",
       "    </tr>\n",
       "    <tr>\n",
       "      <th>11</th>\n",
       "      <td>2025.0</td>\n",
       "      <td>57</td>\n",
       "    </tr>\n",
       "  </tbody>\n",
       "</table>\n",
       "</div>"
      ],
      "text/plain": [
       "      Year  AttackOccurance\n",
       "0   2014.0                1\n",
       "1   2015.0               18\n",
       "2   2016.0               37\n",
       "3   2017.0               82\n",
       "4   2018.0               64\n",
       "5   2019.0               64\n",
       "6   2020.0              243\n",
       "7   2021.0              192\n",
       "8   2022.0              147\n",
       "9   2023.0              316\n",
       "10  2024.0              204\n",
       "11  2025.0               57"
      ]
     },
     "execution_count": 39,
     "metadata": {},
     "output_type": "execute_result"
    }
   ],
   "source": [
    "BreachOccurance"
   ]
  },
  {
   "cell_type": "code",
   "execution_count": 40,
   "id": "25b1fae7-8e48-4f67-bd57-756521db40e4",
   "metadata": {},
   "outputs": [
    {
     "data": {
      "image/png": "[encoded data removed]",
      "text/plain": [
       "<Figure size 1000x600 with 1 Axes>"
      ]
     },
     "metadata": {},
     "output_type": "display_data"
    }
   ],
   "source": [
    "#Plotting the BreachOccurance Overtime\n",
    "\n",
    "plt.figure(figsize=(10, 6))\n",
    "plt.plot(BreachOccurance['Year'], BreachOccurance['AttackOccurance'], marker='o', linestyle='-', color='red')\n",
    "plt.title('Cyber Attacks Over Time', fontsize = 16)\n",
    "plt.xlabel('Year', fontsize = 14)\n",
    "plt.ylabel('Attack Occurance', fontsize = 14)\n",
    "plt.grid(True)\n",
    "plt.xticks(BreachOccurance['Year'].unique()) # Ensuring all years are shown as ticks\n",
    "plt.xticks(rotation=45, ha='right') # Rotating the labels by 45 degrees, align to the right\n",
    "plt.tight_layout()\n",
    "plt.show()"
   ]
  },
  {
   "cell_type": "code",
   "execution_count": 41,
   "id": "e7ef0071-4015-4309-b9d5-887ae6189287",
   "metadata": {},
   "outputs": [
    {
     "data": {
      "text/plain": [
       "Year\n",
       "2023.0    1536\n",
       "2024.0    1062\n",
       "2020.0     980\n",
       "2021.0     899\n",
       "2022.0     651\n",
       "2025.0     301\n",
       "2017.0     263\n",
       "2019.0     248\n",
       "2018.0     217\n",
       "2016.0     109\n",
       "2015.0      61\n",
       "2014.0       2\n",
       "Name: count, dtype: int64"
      ]
     },
     "execution_count": 41,
     "metadata": {},
     "output_type": "execute_result"
    }
   ],
   "source": [
    "washington_data_breach_personalinfo['Year'].value_counts()"
   ]
  },
  {
   "cell_type": "code",
   "execution_count": 42,
   "id": "fa56cc25-43a3-41a4-b98b-1fe5ec061ac7",
   "metadata": {},
   "outputs": [],
   "source": [
    "BreachOccuranceforpersonalinfo = washington_data_breach_personalinfo['Year'].value_counts()\n",
    "BreachOccuranceforpersonalinfo.reset_index()\n",
    "BreachOccuranceforpersonalinfo=pd.DataFrame(BreachOccuranceforpersonalinfo)"
   ]
  },
  {
   "cell_type": "code",
   "execution_count": 43,
   "id": "2392824e-5777-4087-ba02-29776198e1f1",
   "metadata": {},
   "outputs": [],
   "source": [
    "BreachOccuranceforpersonalinfo = BreachOccuranceforpersonalinfo.rename(columns={'Year' : 'Year', 'count': 'AttackOccurance'})"
   ]
  },
  {
   "cell_type": "code",
   "execution_count": 44,
   "id": "9b33bce0-47e1-472d-9fab-09194897d962",
   "metadata": {},
   "outputs": [],
   "source": [
    "BreachOccuranceforpersonalinfo = BreachOccuranceforpersonalinfo.sort_values(by='Year').reset_index()"
   ]
  },
  {
   "cell_type": "code",
   "execution_count": 45,
   "id": "d3015da6-4698-4d27-99f0-27beb78548b4",
   "metadata": {},
   "outputs": [
    {
     "data": {
      "image/png": "[encoded data removed]",
      "text/plain": [
       "<Figure size 1000x600 with 1 Axes>"
      ]
     },
     "metadata": {},
     "output_type": "display_data"
    }
   ],
   "source": [
    "plt.figure(figsize=(10, 6))\n",
    "plt.plot(BreachOccuranceforpersonalinfo['Year'], BreachOccuranceforpersonalinfo['AttackOccurance'], marker='o', linestyle='-', color='red')\n",
    "plt.title('Cyber Attacks Over Time', fontsize = 16)\n",
    "plt.xlabel('Year', fontsize = 14)\n",
    "plt.ylabel('Attack Occurance', fontsize = 14)\n",
    "plt.grid(True)\n",
    "plt.xticks(BreachOccuranceforpersonalinfo['Year'].unique()) # Ensuring all years are shown as ticks\n",
    "plt.xticks(rotation=45, ha='right') # Rotating the labels by 45 degrees, align to the right\n",
    "plt.tight_layout()\n",
    "plt.show()"
   ]
  },
  {
   "cell_type": "code",
   "execution_count": null,
   "id": "704ba102-de49-4b98-b0fc-130dd362ef31",
   "metadata": {},
   "outputs": [],
   "source": []
  },
  {
   "cell_type": "code",
   "execution_count": null,
   "id": "2bbba972-4eb2-4ad5-b4f6-18b71e13b8e4",
   "metadata": {},
   "outputs": [],
   "source": []
  },
  {
   "cell_type": "code",
   "execution_count": null,
   "id": "be52491b-cf48-4b14-a87f-7a71614c2d54",
   "metadata": {},
   "outputs": [],
   "source": []
  },
  {
   "cell_type": "code",
   "execution_count": null,
   "id": "ba41e265-f5ec-4b75-b17f-af9d795f41d6",
   "metadata": {},
   "outputs": [],
   "source": []
  },
  {
   "cell_type": "raw",
   "id": "202fe865-454a-407e-9649-18debd20496a",
   "metadata": {},
   "source": [
    "#Creating a final output csv for PowerBI\n",
    "washington_data_breach.to_csv('data/finaloutputdatabreach.csv', index=False)\n",
    "washington_data_breach_personalinfo.to_csv('data/finaloutputpersonaldatabreach.csv', index=False)"
   ]
  },
  {
   "cell_type": "code",
   "execution_count": null,
   "id": "5f3de949-6420-475b-897a-8c00766ab1de",
   "metadata": {},
   "outputs": [],
   "source": []
  }
 ],
 "metadata": {
  "kernelspec": {
   "display_name": "Python [conda env:base] *",
   "language": "python",
   "name": "conda-base-py"
  },
  "language_info": {
   "codemirror_mode": {
    "name": "ipython",
    "version": 3
   },
   "file_extension": ".py",
   "mimetype": "text/x-python",
   "name": "python",
   "nbconvert_exporter": "python",
   "pygments_lexer": "ipython3",
   "version": "3.13.5"
  }
 },
 "nbformat": 4,
 "nbformat_minor": 5
}
