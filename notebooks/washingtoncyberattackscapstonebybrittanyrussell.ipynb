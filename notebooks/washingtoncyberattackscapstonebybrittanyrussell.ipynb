{
 "cells": [
  {
   "cell_type": "code",
   "execution_count": 19,
   "id": "e1104b5a-e92f-4c5a-96a2-e2c2fb365079",
   "metadata": {},
   "outputs": [],
   "source": [
    "import pandas as pd\n",
    "import numpy as np\n",
    "import matplotlib.pyplot as plt\n",
    "import seaborn as sns\n",
    "import sys\n",
    "import warnings\n"
   ]
  },
  {
   "cell_type": "code",
   "execution_count": 38,
   "id": "077f7716-7dfc-47de-ad97-bd66f9def5ae",
   "metadata": {},
   "outputs": [],
   "source": [
    "washington_data_breach = pd.read_csv('../data/Data_Breach_Notifications_Affecting_Washington_Residents.csv')\n",
    "washington_data_breach_personalinfo= pd.read_csv('../data/Data_Breach_Notifications_Affecting_Washington_Residents__Personal_Information_Breakdown_.csv')"
   ]
  },
  {
   "cell_type": "code",
   "execution_count": 39,
   "id": "14afc1da-fc72-4bb7-83d5-3f4062a31136",
   "metadata": {},
   "outputs": [
    {
     "data": {
      "text/html": [
       "<div>\n",
       "<style scoped>\n",
       "    .dataframe tbody tr th:only-of-type {\n",
       "        vertical-align: middle;\n",
       "    }\n",
       "\n",
       "    .dataframe tbody tr th {\n",
       "        vertical-align: top;\n",
       "    }\n",
       "\n",
       "    .dataframe thead th {\n",
       "        text-align: right;\n",
       "    }\n",
       "</style>\n",
       "<table border=\"1\" class=\"dataframe\">\n",
       "  <thead>\n",
       "    <tr style=\"text-align: right;\">\n",
       "      <th></th>\n",
       "      <th>DateAware</th>\n",
       "      <th>DateSubmitted</th>\n",
       "      <th>DataBreachCause</th>\n",
       "      <th>DateStart</th>\n",
       "      <th>DateEnd</th>\n",
       "      <th>Name</th>\n",
       "      <th>Id</th>\n",
       "      <th>CyberattackType</th>\n",
       "      <th>WashingtoniansAffected</th>\n",
       "      <th>IndustryType</th>\n",
       "      <th>...</th>\n",
       "      <th>DaysToContainBreach</th>\n",
       "      <th>DaysToIdentifyBreach</th>\n",
       "      <th>DaysBreachLifecycle</th>\n",
       "      <th>DiscoveredInProgress</th>\n",
       "      <th>DaysOfExposure</th>\n",
       "      <th>DaysElapsedBetweenEndAndDiscovery</th>\n",
       "      <th>EndedOnDayDiscovered</th>\n",
       "      <th>DaysElapsedBeforeNotification</th>\n",
       "      <th>DaysOfExposureRange</th>\n",
       "      <th>EntityState</th>\n",
       "    </tr>\n",
       "  </thead>\n",
       "  <tbody>\n",
       "    <tr>\n",
       "      <th>0</th>\n",
       "      <td>02/04/2021 12:00:00 AM</td>\n",
       "      <td>03/17/2021 12:00:00 AM</td>\n",
       "      <td>Cyberattack</td>\n",
       "      <td>02/04/2021 12:00:00 AM</td>\n",
       "      <td>02/08/2021 12:00:00 AM</td>\n",
       "      <td>Automatic Funds Transfer Services Inc.</td>\n",
       "      <td>10427</td>\n",
       "      <td>Ransomware</td>\n",
       "      <td>695.0</td>\n",
       "      <td>Finance</td>\n",
       "      <td>...</td>\n",
       "      <td>4.0</td>\n",
       "      <td>0.0</td>\n",
       "      <td>4.0</td>\n",
       "      <td>True</td>\n",
       "      <td>4.0</td>\n",
       "      <td>NaN</td>\n",
       "      <td>False</td>\n",
       "      <td>41.0</td>\n",
       "      <td>1-99</td>\n",
       "      <td>NaN</td>\n",
       "    </tr>\n",
       "    <tr>\n",
       "      <th>1</th>\n",
       "      <td>12/20/2019 12:00:00 AM</td>\n",
       "      <td>03/17/2021 12:00:00 AM</td>\n",
       "      <td>Cyberattack</td>\n",
       "      <td>NaN</td>\n",
       "      <td>NaN</td>\n",
       "      <td>PCS Revenue Control Systems</td>\n",
       "      <td>10428</td>\n",
       "      <td>Phishing</td>\n",
       "      <td>11807.0</td>\n",
       "      <td>Business</td>\n",
       "      <td>...</td>\n",
       "      <td>NaN</td>\n",
       "      <td>NaN</td>\n",
       "      <td>NaN</td>\n",
       "      <td>False</td>\n",
       "      <td>NaN</td>\n",
       "      <td>NaN</td>\n",
       "      <td>False</td>\n",
       "      <td>453.0</td>\n",
       "      <td>Unknown</td>\n",
       "      <td>NaN</td>\n",
       "    </tr>\n",
       "    <tr>\n",
       "      <th>2</th>\n",
       "      <td>02/22/2021 12:00:00 AM</td>\n",
       "      <td>03/17/2021 12:00:00 AM</td>\n",
       "      <td>Cyberattack</td>\n",
       "      <td>12/24/2020 12:00:00 AM</td>\n",
       "      <td>12/29/2020 12:00:00 AM</td>\n",
       "      <td>Western Union Retail Money Transfer Partner</td>\n",
       "      <td>10429</td>\n",
       "      <td>Malware</td>\n",
       "      <td>1555.0</td>\n",
       "      <td>Finance</td>\n",
       "      <td>...</td>\n",
       "      <td>0.0</td>\n",
       "      <td>60.0</td>\n",
       "      <td>60.0</td>\n",
       "      <td>False</td>\n",
       "      <td>5.0</td>\n",
       "      <td>55.0</td>\n",
       "      <td>False</td>\n",
       "      <td>23.0</td>\n",
       "      <td>1-99</td>\n",
       "      <td>NaN</td>\n",
       "    </tr>\n",
       "    <tr>\n",
       "      <th>3</th>\n",
       "      <td>05/24/2020 12:00:00 AM</td>\n",
       "      <td>03/18/2021 12:00:00 AM</td>\n",
       "      <td>Cyberattack</td>\n",
       "      <td>05/24/2020 12:00:00 AM</td>\n",
       "      <td>NaN</td>\n",
       "      <td>Manson Counstruction Co.</td>\n",
       "      <td>10430</td>\n",
       "      <td>Unclear/unknown</td>\n",
       "      <td>1049.0</td>\n",
       "      <td>Business</td>\n",
       "      <td>...</td>\n",
       "      <td>NaN</td>\n",
       "      <td>0.0</td>\n",
       "      <td>NaN</td>\n",
       "      <td>False</td>\n",
       "      <td>NaN</td>\n",
       "      <td>NaN</td>\n",
       "      <td>False</td>\n",
       "      <td>298.0</td>\n",
       "      <td>Unknown</td>\n",
       "      <td>NaN</td>\n",
       "    </tr>\n",
       "    <tr>\n",
       "      <th>4</th>\n",
       "      <td>01/18/2021 12:00:00 AM</td>\n",
       "      <td>03/19/2021 12:00:00 AM</td>\n",
       "      <td>Cyberattack</td>\n",
       "      <td>01/12/2021 12:00:00 AM</td>\n",
       "      <td>01/18/2021 12:00:00 AM</td>\n",
       "      <td>Cancer Treatment Centers of America</td>\n",
       "      <td>10431</td>\n",
       "      <td>Phishing</td>\n",
       "      <td>579.0</td>\n",
       "      <td>Health</td>\n",
       "      <td>...</td>\n",
       "      <td>0.0</td>\n",
       "      <td>6.0</td>\n",
       "      <td>6.0</td>\n",
       "      <td>True</td>\n",
       "      <td>6.0</td>\n",
       "      <td>NaN</td>\n",
       "      <td>True</td>\n",
       "      <td>60.0</td>\n",
       "      <td>1-99</td>\n",
       "      <td>NaN</td>\n",
       "    </tr>\n",
       "  </tbody>\n",
       "</table>\n",
       "<p>5 rows × 25 columns</p>\n",
       "</div>"
      ],
      "text/plain": [
       "                DateAware           DateSubmitted DataBreachCause  \\\n",
       "0  02/04/2021 12:00:00 AM  03/17/2021 12:00:00 AM     Cyberattack   \n",
       "1  12/20/2019 12:00:00 AM  03/17/2021 12:00:00 AM     Cyberattack   \n",
       "2  02/22/2021 12:00:00 AM  03/17/2021 12:00:00 AM     Cyberattack   \n",
       "3  05/24/2020 12:00:00 AM  03/18/2021 12:00:00 AM     Cyberattack   \n",
       "4  01/18/2021 12:00:00 AM  03/19/2021 12:00:00 AM     Cyberattack   \n",
       "\n",
       "                DateStart                 DateEnd  \\\n",
       "0  02/04/2021 12:00:00 AM  02/08/2021 12:00:00 AM   \n",
       "1                     NaN                     NaN   \n",
       "2  12/24/2020 12:00:00 AM  12/29/2020 12:00:00 AM   \n",
       "3  05/24/2020 12:00:00 AM                     NaN   \n",
       "4  01/12/2021 12:00:00 AM  01/18/2021 12:00:00 AM   \n",
       "\n",
       "                                          Name     Id  CyberattackType  \\\n",
       "0       Automatic Funds Transfer Services Inc.  10427       Ransomware   \n",
       "1                  PCS Revenue Control Systems  10428         Phishing   \n",
       "2  Western Union Retail Money Transfer Partner  10429          Malware   \n",
       "3                     Manson Counstruction Co.  10430  Unclear/unknown   \n",
       "4          Cancer Treatment Centers of America  10431         Phishing   \n",
       "\n",
       "   WashingtoniansAffected IndustryType  ... DaysToContainBreach  \\\n",
       "0                   695.0      Finance  ...                 4.0   \n",
       "1                 11807.0     Business  ...                 NaN   \n",
       "2                  1555.0      Finance  ...                 0.0   \n",
       "3                  1049.0     Business  ...                 NaN   \n",
       "4                   579.0       Health  ...                 0.0   \n",
       "\n",
       "   DaysToIdentifyBreach  DaysBreachLifecycle DiscoveredInProgress  \\\n",
       "0                   0.0                  4.0                 True   \n",
       "1                   NaN                  NaN                False   \n",
       "2                  60.0                 60.0                False   \n",
       "3                   0.0                  NaN                False   \n",
       "4                   6.0                  6.0                 True   \n",
       "\n",
       "  DaysOfExposure  DaysElapsedBetweenEndAndDiscovery  EndedOnDayDiscovered  \\\n",
       "0            4.0                                NaN                 False   \n",
       "1            NaN                                NaN                 False   \n",
       "2            5.0                               55.0                 False   \n",
       "3            NaN                                NaN                 False   \n",
       "4            6.0                                NaN                  True   \n",
       "\n",
       "   DaysElapsedBeforeNotification  DaysOfExposureRange  EntityState  \n",
       "0                           41.0                 1-99          NaN  \n",
       "1                          453.0              Unknown          NaN  \n",
       "2                           23.0                 1-99          NaN  \n",
       "3                          298.0              Unknown          NaN  \n",
       "4                           60.0                 1-99          NaN  \n",
       "\n",
       "[5 rows x 25 columns]"
      ]
     },
     "execution_count": 39,
     "metadata": {},
     "output_type": "execute_result"
    }
   ],
   "source": [
    "washington_data_breach.head()"
   ]
  },
  {
   "cell_type": "code",
   "execution_count": 40,
   "id": "441c71a4-5ec7-4449-bad9-e9260fd9ffe9",
   "metadata": {},
   "outputs": [
    {
     "data": {
      "text/html": [
       "<div>\n",
       "<style scoped>\n",
       "    .dataframe tbody tr th:only-of-type {\n",
       "        vertical-align: middle;\n",
       "    }\n",
       "\n",
       "    .dataframe tbody tr th {\n",
       "        vertical-align: top;\n",
       "    }\n",
       "\n",
       "    .dataframe thead th {\n",
       "        text-align: right;\n",
       "    }\n",
       "</style>\n",
       "<table border=\"1\" class=\"dataframe\">\n",
       "  <thead>\n",
       "    <tr style=\"text-align: right;\">\n",
       "      <th></th>\n",
       "      <th>Id</th>\n",
       "      <th>DateAware</th>\n",
       "      <th>DateSubmitted</th>\n",
       "      <th>DataBreachCause</th>\n",
       "      <th>DateStart</th>\n",
       "      <th>DateEnd</th>\n",
       "      <th>Name</th>\n",
       "      <th>CyberattackType</th>\n",
       "      <th>WashingtoniansAffected</th>\n",
       "      <th>IndustryType</th>\n",
       "      <th>BusinessType</th>\n",
       "      <th>InformationType</th>\n",
       "      <th>Year</th>\n",
       "      <th>WashingtoniansAffectedRange</th>\n",
       "      <th>BreachLifecycleRange</th>\n",
       "      <th>EntityState</th>\n",
       "    </tr>\n",
       "  </thead>\n",
       "  <tbody>\n",
       "    <tr>\n",
       "      <th>0</th>\n",
       "      <td>9707</td>\n",
       "      <td>02/06/2017 12:00:00 AM</td>\n",
       "      <td>05/24/2017 12:00:00 AM</td>\n",
       "      <td>Cyberattack</td>\n",
       "      <td>2016-02-26T00:00:00</td>\n",
       "      <td>2016-12-05T00:00:00</td>\n",
       "      <td>Incipio, LLC</td>\n",
       "      <td>Unclear/unknown</td>\n",
       "      <td>1650.0</td>\n",
       "      <td>Business</td>\n",
       "      <td>Accessories</td>\n",
       "      <td>Other</td>\n",
       "      <td>2017</td>\n",
       "      <td>1,000-9,999</td>\n",
       "      <td>300-399</td>\n",
       "      <td>NaN</td>\n",
       "    </tr>\n",
       "    <tr>\n",
       "      <th>1</th>\n",
       "      <td>9708</td>\n",
       "      <td>05/26/2017 12:00:00 AM</td>\n",
       "      <td>05/26/2017 12:00:00 AM</td>\n",
       "      <td>Unauthorized Access</td>\n",
       "      <td>2013-10-23T00:00:00</td>\n",
       "      <td>2017-03-31T00:00:00</td>\n",
       "      <td>Kennewick Public Hospital District, dba Trios ...</td>\n",
       "      <td>NaN</td>\n",
       "      <td>942.0</td>\n",
       "      <td>Health</td>\n",
       "      <td>NaN</td>\n",
       "      <td>Name</td>\n",
       "      <td>2017</td>\n",
       "      <td>500-999</td>\n",
       "      <td>500+</td>\n",
       "      <td>NaN</td>\n",
       "    </tr>\n",
       "    <tr>\n",
       "      <th>2</th>\n",
       "      <td>9708</td>\n",
       "      <td>05/26/2017 12:00:00 AM</td>\n",
       "      <td>05/26/2017 12:00:00 AM</td>\n",
       "      <td>Unauthorized Access</td>\n",
       "      <td>2013-10-23T00:00:00</td>\n",
       "      <td>2017-03-31T00:00:00</td>\n",
       "      <td>Kennewick Public Hospital District, dba Trios ...</td>\n",
       "      <td>NaN</td>\n",
       "      <td>942.0</td>\n",
       "      <td>Health</td>\n",
       "      <td>NaN</td>\n",
       "      <td>Medical Information</td>\n",
       "      <td>2017</td>\n",
       "      <td>500-999</td>\n",
       "      <td>500+</td>\n",
       "      <td>NaN</td>\n",
       "    </tr>\n",
       "    <tr>\n",
       "      <th>3</th>\n",
       "      <td>9710</td>\n",
       "      <td>04/18/2017 12:00:00 AM</td>\n",
       "      <td>06/05/2017 12:00:00 AM</td>\n",
       "      <td>Unauthorized Access</td>\n",
       "      <td>2016-08-10T00:00:00</td>\n",
       "      <td>2017-02-09T00:00:00</td>\n",
       "      <td>GameStop, Inc.</td>\n",
       "      <td>NaN</td>\n",
       "      <td>27956.0</td>\n",
       "      <td>Business</td>\n",
       "      <td>Retail</td>\n",
       "      <td>Name</td>\n",
       "      <td>2017</td>\n",
       "      <td>10,000-49,999</td>\n",
       "      <td>200-299</td>\n",
       "      <td>NaN</td>\n",
       "    </tr>\n",
       "    <tr>\n",
       "      <th>4</th>\n",
       "      <td>9710</td>\n",
       "      <td>04/18/2017 12:00:00 AM</td>\n",
       "      <td>06/05/2017 12:00:00 AM</td>\n",
       "      <td>Unauthorized Access</td>\n",
       "      <td>2016-08-10T00:00:00</td>\n",
       "      <td>2017-02-09T00:00:00</td>\n",
       "      <td>GameStop, Inc.</td>\n",
       "      <td>NaN</td>\n",
       "      <td>27956.0</td>\n",
       "      <td>Business</td>\n",
       "      <td>Retail</td>\n",
       "      <td>Financial &amp; Banking Information</td>\n",
       "      <td>2017</td>\n",
       "      <td>10,000-49,999</td>\n",
       "      <td>200-299</td>\n",
       "      <td>NaN</td>\n",
       "    </tr>\n",
       "  </tbody>\n",
       "</table>\n",
       "</div>"
      ],
      "text/plain": [
       "     Id               DateAware           DateSubmitted      DataBreachCause  \\\n",
       "0  9707  02/06/2017 12:00:00 AM  05/24/2017 12:00:00 AM          Cyberattack   \n",
       "1  9708  05/26/2017 12:00:00 AM  05/26/2017 12:00:00 AM  Unauthorized Access   \n",
       "2  9708  05/26/2017 12:00:00 AM  05/26/2017 12:00:00 AM  Unauthorized Access   \n",
       "3  9710  04/18/2017 12:00:00 AM  06/05/2017 12:00:00 AM  Unauthorized Access   \n",
       "4  9710  04/18/2017 12:00:00 AM  06/05/2017 12:00:00 AM  Unauthorized Access   \n",
       "\n",
       "             DateStart              DateEnd  \\\n",
       "0  2016-02-26T00:00:00  2016-12-05T00:00:00   \n",
       "1  2013-10-23T00:00:00  2017-03-31T00:00:00   \n",
       "2  2013-10-23T00:00:00  2017-03-31T00:00:00   \n",
       "3  2016-08-10T00:00:00  2017-02-09T00:00:00   \n",
       "4  2016-08-10T00:00:00  2017-02-09T00:00:00   \n",
       "\n",
       "                                                Name  CyberattackType  \\\n",
       "0                                       Incipio, LLC  Unclear/unknown   \n",
       "1  Kennewick Public Hospital District, dba Trios ...              NaN   \n",
       "2  Kennewick Public Hospital District, dba Trios ...              NaN   \n",
       "3                                     GameStop, Inc.              NaN   \n",
       "4                                     GameStop, Inc.              NaN   \n",
       "\n",
       "   WashingtoniansAffected IndustryType BusinessType  \\\n",
       "0                  1650.0     Business  Accessories   \n",
       "1                   942.0       Health          NaN   \n",
       "2                   942.0       Health          NaN   \n",
       "3                 27956.0     Business       Retail   \n",
       "4                 27956.0     Business       Retail   \n",
       "\n",
       "                   InformationType  Year WashingtoniansAffectedRange  \\\n",
       "0                            Other  2017                 1,000-9,999   \n",
       "1                             Name  2017                     500-999   \n",
       "2              Medical Information  2017                     500-999   \n",
       "3                             Name  2017               10,000-49,999   \n",
       "4  Financial & Banking Information  2017               10,000-49,999   \n",
       "\n",
       "  BreachLifecycleRange EntityState  \n",
       "0              300-399         NaN  \n",
       "1                 500+         NaN  \n",
       "2                 500+         NaN  \n",
       "3              200-299         NaN  \n",
       "4              200-299         NaN  "
      ]
     },
     "execution_count": 40,
     "metadata": {},
     "output_type": "execute_result"
    }
   ],
   "source": [
    "washington_data_breach_personalinfo.head()"
   ]
  },
  {
   "cell_type": "code",
   "execution_count": 7,
   "id": "2fa34c3f-1a27-4610-9e27-951a8a2af287",
   "metadata": {},
   "outputs": [
    {
     "data": {
      "text/plain": [
       "Index(['DateAware', 'DateSubmitted', 'DataBreachCause', 'DateStart', 'DateEnd',\n",
       "       'Name', 'Id', 'CyberattackType', 'WashingtoniansAffected',\n",
       "       'IndustryType', 'BusinessType', 'Year', 'YearText',\n",
       "       'WashingtoniansAffectedRange', 'BreachLifecycleRange',\n",
       "       'DaysToContainBreach', 'DaysToIdentifyBreach', 'DaysBreachLifecycle',\n",
       "       'DiscoveredInProgress', 'DaysOfExposure',\n",
       "       'DaysElapsedBetweenEndAndDiscovery', 'EndedOnDayDiscovered',\n",
       "       'DaysElapsedBeforeNotification', 'DaysOfExposureRange', 'EntityState'],\n",
       "      dtype='object')"
      ]
     },
     "execution_count": 7,
     "metadata": {},
     "output_type": "execute_result"
    }
   ],
   "source": [
    "washington_data_breach.columns"
   ]
  },
  {
   "cell_type": "code",
   "execution_count": 8,
   "id": "868901b5-aaaf-40c6-84c4-6f497d109bff",
   "metadata": {},
   "outputs": [
    {
     "data": {
      "text/plain": [
       "RangeIndex(start=0, stop=1448, step=1)"
      ]
     },
     "execution_count": 8,
     "metadata": {},
     "output_type": "execute_result"
    }
   ],
   "source": [
    "washington_data_breach.index"
   ]
  },
  {
   "cell_type": "code",
   "execution_count": 9,
   "id": "cc33c83d-9b19-441f-b9e0-249029680c0c",
   "metadata": {},
   "outputs": [
    {
     "data": {
      "text/plain": [
       "<bound method DataFrame.info of                    DateAware           DateSubmitted      DataBreachCause  \\\n",
       "0     02/04/2021 12:00:00 AM  03/17/2021 12:00:00 AM          Cyberattack   \n",
       "1     12/20/2019 12:00:00 AM  03/17/2021 12:00:00 AM          Cyberattack   \n",
       "2     02/22/2021 12:00:00 AM  03/17/2021 12:00:00 AM          Cyberattack   \n",
       "3     05/24/2020 12:00:00 AM  03/18/2021 12:00:00 AM          Cyberattack   \n",
       "4     01/18/2021 12:00:00 AM  03/19/2021 12:00:00 AM          Cyberattack   \n",
       "...                      ...                     ...                  ...   \n",
       "1443  07/01/2024 12:00:00 AM  08/21/2025 12:00:00 AM          Cyberattack   \n",
       "1444  05/30/2025 12:00:00 AM  08/22/2025 12:00:00 AM          Cyberattack   \n",
       "1445  05/30/2025 12:00:00 AM  08/22/2025 12:00:00 AM          Cyberattack   \n",
       "1446  07/02/2025 12:00:00 AM  08/22/2025 12:00:00 AM  Unauthorized Access   \n",
       "1447  12/06/2021 12:00:00 AM  08/19/2022 12:00:00 AM  Unauthorized Access   \n",
       "\n",
       "                   DateStart                 DateEnd  \\\n",
       "0     02/04/2021 12:00:00 AM  02/08/2021 12:00:00 AM   \n",
       "1                        NaN                     NaN   \n",
       "2     12/24/2020 12:00:00 AM  12/29/2020 12:00:00 AM   \n",
       "3     05/24/2020 12:00:00 AM                     NaN   \n",
       "4     01/12/2021 12:00:00 AM  01/18/2021 12:00:00 AM   \n",
       "...                      ...                     ...   \n",
       "1443  07/01/2024 12:00:00 AM  07/05/2024 12:00:00 AM   \n",
       "1444  05/29/2025 12:00:00 AM  05/29/2025 12:00:00 AM   \n",
       "1445  05/29/2025 12:00:00 AM  05/29/2025 12:00:00 AM   \n",
       "1446  06/07/2025 12:00:00 AM  06/13/2025 12:00:00 AM   \n",
       "1447  10/27/2021 12:00:00 AM  12/07/2021 12:00:00 AM   \n",
       "\n",
       "                                                   Name     Id  \\\n",
       "0                Automatic Funds Transfer Services Inc.  10427   \n",
       "1                           PCS Revenue Control Systems  10428   \n",
       "2           Western Union Retail Money Transfer Partner  10429   \n",
       "3                              Manson Counstruction Co.  10430   \n",
       "4                   Cancer Treatment Centers of America  10431   \n",
       "...                                                 ...    ...   \n",
       "1443                              The Computer Merchant  20023   \n",
       "1444  Farmers Insurance Exchange, Farmers Group, Inc...  20024   \n",
       "1445           Farmers New World Life Insurance Company  20025   \n",
       "1446                  Louis Vuitton North America, Inc.  20046   \n",
       "1447                       Community Loan Servicing LLC  13691   \n",
       "\n",
       "      CyberattackType  WashingtoniansAffected IndustryType  ...  \\\n",
       "0          Ransomware                   695.0      Finance  ...   \n",
       "1            Phishing                 11807.0     Business  ...   \n",
       "2             Malware                  1555.0      Finance  ...   \n",
       "3     Unclear/unknown                  1049.0     Business  ...   \n",
       "4            Phishing                   579.0       Health  ...   \n",
       "...               ...                     ...          ...  ...   \n",
       "1443       Ransomware                   543.0     Business  ...   \n",
       "1444            Other                 45348.0      Finance  ...   \n",
       "1445            Other                  1463.0      Finance  ...   \n",
       "1446              NaN                 17615.0     Business  ...   \n",
       "1447              NaN                  7518.0      Finance  ...   \n",
       "\n",
       "     DaysToContainBreach  DaysToIdentifyBreach  DaysBreachLifecycle  \\\n",
       "0                    4.0                   0.0                  4.0   \n",
       "1                    NaN                   NaN                  NaN   \n",
       "2                    0.0                  60.0                 60.0   \n",
       "3                    NaN                   0.0                  NaN   \n",
       "4                    0.0                   6.0                  6.0   \n",
       "...                  ...                   ...                  ...   \n",
       "1443                 4.0                   0.0                  4.0   \n",
       "1444                 0.0                   1.0                  1.0   \n",
       "1445                 0.0                   1.0                  1.0   \n",
       "1446                 0.0                  25.0                 25.0   \n",
       "1447                 1.0                  40.0                 41.0   \n",
       "\n",
       "     DiscoveredInProgress DaysOfExposure  DaysElapsedBetweenEndAndDiscovery  \\\n",
       "0                    True            4.0                                NaN   \n",
       "1                   False            NaN                                NaN   \n",
       "2                   False            5.0                               55.0   \n",
       "3                   False            NaN                                NaN   \n",
       "4                    True            6.0                                NaN   \n",
       "...                   ...            ...                                ...   \n",
       "1443                 True            4.0                                NaN   \n",
       "1444                False            0.0                                1.0   \n",
       "1445                False            0.0                                1.0   \n",
       "1446                False            6.0                               19.0   \n",
       "1447                 True           41.0                                NaN   \n",
       "\n",
       "      EndedOnDayDiscovered  DaysElapsedBeforeNotification  \\\n",
       "0                    False                           41.0   \n",
       "1                    False                          453.0   \n",
       "2                    False                           23.0   \n",
       "3                    False                          298.0   \n",
       "4                     True                           60.0   \n",
       "...                    ...                            ...   \n",
       "1443                 False                          416.0   \n",
       "1444                 False                           84.0   \n",
       "1445                 False                           84.0   \n",
       "1446                 False                           51.0   \n",
       "1447                 False                          256.0   \n",
       "\n",
       "      DaysOfExposureRange  EntityState  \n",
       "0                    1-99          NaN  \n",
       "1                 Unknown          NaN  \n",
       "2                    1-99          NaN  \n",
       "3                 Unknown          NaN  \n",
       "4                    1-99          NaN  \n",
       "...                   ...          ...  \n",
       "1443                 1-99           MA  \n",
       "1444                    0           CA  \n",
       "1445                    0           WA  \n",
       "1446                 1-99           NY  \n",
       "1447                 1-99           FL  \n",
       "\n",
       "[1448 rows x 25 columns]>"
      ]
     },
     "execution_count": 9,
     "metadata": {},
     "output_type": "execute_result"
    }
   ],
   "source": [
    "washington_data_breach.info"
   ]
  },
  {
   "cell_type": "code",
   "execution_count": 10,
   "id": "1ae64c28-e0e6-4bbd-a5bd-fac55f037ce5",
   "metadata": {},
   "outputs": [
    {
     "data": {
      "text/plain": [
       "(1448, 25)"
      ]
     },
     "execution_count": 10,
     "metadata": {},
     "output_type": "execute_result"
    }
   ],
   "source": [
    "washington_data_breach.shape"
   ]
  },
  {
   "cell_type": "code",
   "execution_count": 11,
   "id": "acb2e792-652b-41cd-ba17-4a5b67a25382",
   "metadata": {},
   "outputs": [
    {
     "data": {
      "text/plain": [
       "DateAware                             object\n",
       "DateSubmitted                         object\n",
       "DataBreachCause                       object\n",
       "DateStart                             object\n",
       "DateEnd                               object\n",
       "Name                                  object\n",
       "Id                                     int64\n",
       "CyberattackType                       object\n",
       "WashingtoniansAffected               float64\n",
       "IndustryType                          object\n",
       "BusinessType                          object\n",
       "Year                                   int64\n",
       "YearText                               int64\n",
       "WashingtoniansAffectedRange           object\n",
       "BreachLifecycleRange                  object\n",
       "DaysToContainBreach                  float64\n",
       "DaysToIdentifyBreach                 float64\n",
       "DaysBreachLifecycle                  float64\n",
       "DiscoveredInProgress                    bool\n",
       "DaysOfExposure                       float64\n",
       "DaysElapsedBetweenEndAndDiscovery    float64\n",
       "EndedOnDayDiscovered                    bool\n",
       "DaysElapsedBeforeNotification        float64\n",
       "DaysOfExposureRange                   object\n",
       "EntityState                           object\n",
       "dtype: object"
      ]
     },
     "execution_count": 11,
     "metadata": {},
     "output_type": "execute_result"
    }
   ],
   "source": [
    "washington_data_breach.dtypes"
   ]
  },
  {
   "cell_type": "markdown",
   "id": "7fcc7f5c-9a7a-4cb1-88af-ed4a97b15bad",
   "metadata": {},
   "source": [
    "## What are the causes of the data breaches?"
   ]
  },
  {
   "cell_type": "code",
   "execution_count": 12,
   "id": "903537ad-09e2-4975-86ca-07318633f3de",
   "metadata": {},
   "outputs": [
    {
     "data": {
      "text/plain": [
       "DataBreachCause\n",
       "Cyberattack            1050\n",
       "Unauthorized Access     311\n",
       "Theft or Mistake         87\n",
       "Name: count, dtype: int64"
      ]
     },
     "execution_count": 12,
     "metadata": {},
     "output_type": "execute_result"
    }
   ],
   "source": [
    "washington_data_breach['DataBreachCause'].value_counts()"
   ]
  },
  {
   "cell_type": "markdown",
   "id": "8672cceb-a4b2-4888-b479-ad34e9039543",
   "metadata": {},
   "source": [
    "            I want to create a pie chart for this in PowerBI"
   ]
  },
  {
   "cell_type": "markdown",
   "id": "9eb01660-370f-498a-857a-b43d3a7bd1c6",
   "metadata": {},
   "source": [
    "## What types of Cyber attacks occured?"
   ]
  },
  {
   "cell_type": "code",
   "execution_count": 13,
   "id": "1643b38b-945e-486f-85a0-895b2a7f4948",
   "metadata": {},
   "outputs": [
    {
     "data": {
      "text/plain": [
       "CyberattackType\n",
       "Ransomware         497\n",
       "Malware            224\n",
       "Other              136\n",
       "Phishing           100\n",
       "Unclear/unknown     85\n",
       "Skimmers            15\n",
       "Name: count, dtype: int64"
      ]
     },
     "execution_count": 13,
     "metadata": {},
     "output_type": "execute_result"
    }
   ],
   "source": [
    "washington_data_breach['CyberattackType'].value_counts()"
   ]
  },
  {
   "cell_type": "markdown",
   "id": "bf2afcf4-f93b-495b-a900-5e7f223b5d84",
   "metadata": {},
   "source": [
    "            In the CyberattackType column: converting all unclear/unknown and other to one category called unknown threats.\n",
    "            In the Washington Data Breach all of these events where reported due to some time of Threat to the data so that is \n",
    "            why I am transforming the column using a .replace to unknown threats."
   ]
  },
  {
   "cell_type": "code",
   "execution_count": 26,
   "id": "63ab5b93-8000-48dc-8189-53934aee0134",
   "metadata": {},
   "outputs": [],
   "source": [
    "washington_data_breach['CyberattackType'] = washington_data_breach['CyberattackType'].replace({'Other':'Unknown Threats',\n",
    "                                                                                               'Unclear/unknown' : 'Unknown Threats',\n",
    "                                                                                             })"
   ]
  },
  {
   "cell_type": "markdown",
   "id": "fcccca8e-3466-40a4-98d0-9e9474117efc",
   "metadata": {},
   "source": [
    "        For this column I want to create a visual showing the types of Cyber Attacks that occured in the Washington Data Breach."
   ]
  },
  {
   "cell_type": "code",
   "execution_count": 33,
   "id": "5d604b6b-cb5c-44f3-8f09-d00c56cf84f0",
   "metadata": {},
   "outputs": [
    {
     "data": {
      "image/png": "[encoded data removed]",
      "text/plain": [
       "<Figure size 1000x800 with 1 Axes>"
      ]
     },
     "metadata": {},
     "output_type": "display_data"
    }
   ],
   "source": [
    "plt.figure(figsize = (10,8))\n",
    "washington_data_breach['CyberattackType'].value_counts().plot(kind = 'bar', color = 'firebrick')\n",
    "plt.xticks(rotation = 0, fontsize = 14)\n",
    "plt.yticks(fontsize = 14)\n",
    "plt.xlabel('Cyber Attack', fontsize = 14)\n",
    "plt.ylabel('Attack Occurance', fontsize = 14)\n",
    "plt.title('Types of Cyber Attacks', fontsize = 16, fontweight = 'bold');"
   ]
  },
  {
   "cell_type": "markdown",
   "id": "6c31319a-9e05-4507-9f2f-1b6662aa4a57",
   "metadata": {},
   "source": [
    "## What industry was affected by the Washington Data Breach?"
   ]
  },
  {
   "cell_type": "code",
   "execution_count": 14,
   "id": "5228fa66-a945-42a7-806d-c7069fd76e38",
   "metadata": {},
   "outputs": [
    {
     "data": {
      "text/plain": [
       "IndustryType\n",
       "Business              654\n",
       "Health                277\n",
       "Finance               224\n",
       "Education             122\n",
       "Non-Profit/Charity    118\n",
       "Government             53\n",
       "Name: count, dtype: int64"
      ]
     },
     "execution_count": 14,
     "metadata": {},
     "output_type": "execute_result"
    }
   ],
   "source": [
    "washington_data_breach['IndustryType'].value_counts()"
   ]
  },
  {
   "cell_type": "code",
   "execution_count": 15,
   "id": "3df276e0-c20a-4bc0-89d0-270d8c7a3fbf",
   "metadata": {},
   "outputs": [
    {
     "data": {
      "text/plain": [
       "BusinessType\n",
       "Other                    149\n",
       "Retail                   133\n",
       "Professional Services     49\n",
       "Hospitality               48\n",
       "Manufacturing             41\n",
       "Software                  35\n",
       "Legal                     29\n",
       "Entertainment             23\n",
       "Consumable                21\n",
       "Clothing                  19\n",
       "Construction              16\n",
       "Web Services              13\n",
       "Transportation            12\n",
       "Telecommunications        11\n",
       "Human Resources           10\n",
       "Shipping                   9\n",
       "Cosmetic                   9\n",
       "Real Estate                8\n",
       "Accessories                8\n",
       "Home                       6\n",
       "Fitness                    6\n",
       "Cleaning                   3\n",
       "Cryptocurrency             2\n",
       "Biotech                    1\n",
       "Name: count, dtype: int64"
      ]
     },
     "execution_count": 15,
     "metadata": {},
     "output_type": "execute_result"
    }
   ],
   "source": [
    "washington_data_breach['BusinessType'].value_counts()"
   ]
  },
  {
   "cell_type": "code",
   "execution_count": 16,
   "id": "ab40565b-3ce2-45b4-8f41-9eb3d8d50253",
   "metadata": {},
   "outputs": [
    {
     "data": {
      "text/plain": [
       "Year\n",
       "2024    295\n",
       "2021    286\n",
       "2025    209\n",
       "2023    180\n",
       "2022    159\n",
       "2017     77\n",
       "2019     65\n",
       "2018     63\n",
       "2020     60\n",
       "2016     39\n",
       "2026     15\n",
       "Name: count, dtype: int64"
      ]
     },
     "execution_count": 16,
     "metadata": {},
     "output_type": "execute_result"
    }
   ],
   "source": [
    "washington_data_breach['Year'].value_counts()"
   ]
  },
  {
   "cell_type": "markdown",
   "id": "22f708a0-7637-4806-9fca-9f5144fe943e",
   "metadata": {},
   "source": [
    "        This data set shows years 2025 and 2026. I need to cross check date noticed and date submitted and if there is no comparision\n",
    "        I can add NaN values for the Year 2026 on these due to it being incorrect information. Or I can create a code seperating the date from the date aware or the date submitted and create a new year column."
   ]
  },
  {
   "cell_type": "code",
   "execution_count": 41,
   "id": "1c19d837-9edc-4475-993c-136a3331375e",
   "metadata": {},
   "outputs": [
    {
     "data": {
      "text/plain": [
       "DateAware\n",
       "07/16/2020 12:00:00 AM    71\n",
       "05/31/2023 12:00:00 AM    21\n",
       "02/06/2017 12:00:00 AM    17\n",
       "04/10/2024 12:00:00 AM    14\n",
       "06/01/2023 12:00:00 AM     8\n",
       "                          ..\n",
       "01/12/2017 12:00:00 AM     1\n",
       "12/21/2024 12:00:00 AM     1\n",
       "07/01/2024 12:00:00 AM     1\n",
       "01/05/2017 12:00:00 AM     1\n",
       "03/11/2021 12:00:00 AM     1\n",
       "Name: count, Length: 987, dtype: int64"
      ]
     },
     "execution_count": 41,
     "metadata": {},
     "output_type": "execute_result"
    }
   ],
   "source": [
    "washington_data_breach['DateAware'].value_counts()"
   ]
  },
  {
   "cell_type": "code",
   "execution_count": 43,
   "id": "cd5a0bb3-7c45-46dd-948a-bfa5de4f70b1",
   "metadata": {},
   "outputs": [
    {
     "data": {
      "text/plain": [
       "DateSubmitted\n",
       "08/14/2020 12:00:00 AM    16\n",
       "02/25/2017 12:00:00 AM     8\n",
       "07/25/2022 12:00:00 AM     7\n",
       "07/28/2023 12:00:00 AM     7\n",
       "09/18/2020 12:00:00 AM     7\n",
       "                          ..\n",
       "04/26/2021 12:00:00 AM     1\n",
       "04/29/2021 12:00:00 AM     1\n",
       "04/30/2021 12:00:00 AM     1\n",
       "05/04/2021 12:00:00 AM     1\n",
       "03/16/2021 12:00:00 AM     1\n",
       "Name: count, Length: 960, dtype: int64"
      ]
     },
     "execution_count": 43,
     "metadata": {},
     "output_type": "execute_result"
    }
   ],
   "source": [
    "washington_data_breach['DateSubmitted'].value_counts()"
   ]
  },
  {
   "cell_type": "code",
   "execution_count": null,
   "id": "df50c0b7-bf26-42e0-9465-47a12fb601db",
   "metadata": {},
   "outputs": [],
   "source": []
  }
 ],
 "metadata": {
  "kernelspec": {
   "display_name": "Python [conda env:base] *",
   "language": "python",
   "name": "conda-base-py"
  },
  "language_info": {
   "codemirror_mode": {
    "name": "ipython",
    "version": 3
   },
   "file_extension": ".py",
   "mimetype": "text/x-python",
   "name": "python",
   "nbconvert_exporter": "python",
   "pygments_lexer": "ipython3",
   "version": "3.13.5"
  }
 },
 "nbformat": 4,
 "nbformat_minor": 5
}
